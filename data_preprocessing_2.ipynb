{
 "cells": [
  {
   "cell_type": "code",
   "execution_count": 1,
   "id": "3e0efc12-d293-4089-b957-4dad0d8defba",
   "metadata": {},
   "outputs": [],
   "source": [
    "import pandas as pd\n",
    "import numpy as np\n",
    "import matplotlib.pyplot as plt"
   ]
  },
  {
   "cell_type": "code",
   "execution_count": 2,
   "id": "08862c9b-bb85-4f22-b668-3b3a35b7307b",
   "metadata": {},
   "outputs": [
    {
     "data": {
      "text/plain": [
       "(1260572, 24)"
      ]
     },
     "execution_count": 2,
     "metadata": {},
     "output_type": "execute_result"
    }
   ],
   "source": [
    "df_movies = pd.read_csv(r'C:\\PycharmProjects\\PythonProject\\recommendation_for_films\\dataset\\TMDB_movie_dataset_v11.csv')\n",
    "df_movies.shape"
   ]
  },
  {
   "cell_type": "code",
   "execution_count": 3,
   "id": "fa3d3e5b-0ab9-4674-8157-b11b162cea71",
   "metadata": {},
   "outputs": [
    {
     "data": {
      "text/plain": [
       "(168639, 29)"
      ]
     },
     "execution_count": 3,
     "metadata": {},
     "output_type": "execute_result"
    }
   ],
   "source": [
    "df_tv_shows = pd.read_csv(r'C:\\PycharmProjects\\PythonProject\\recommendation_for_films\\dataset\\archive\\TMDB_tv_dataset_v3.csv')\n",
    "df_tv_shows.shape"
   ]
  },
  {
   "cell_type": "code",
   "execution_count": 4,
   "id": "6270d2ad-399d-428f-bb3f-a02685201864",
   "metadata": {},
   "outputs": [],
   "source": [
    "def soft_clean_tv_data(df):\n",
    "    \"\"\"Очистка TV-датасета без заполнения vote_average\"\"\"\n",
    "    # 1. Дубликаты\n",
    "    df = df.drop_duplicates().drop_duplicates(subset='id', keep='first')\n",
    "\n",
    "    # 2. Будущие даты\n",
    "    now = pd.Timestamp.now()\n",
    "    df['first_air_date'] = pd.to_datetime(df['first_air_date'], errors='coerce')\n",
    "    df = df[(df['first_air_date'] <= now) | df['first_air_date'].isna()]\n",
    "\n",
    "    # 3. Пропуски в текстовых полях\n",
    "    df['overview'] = df['overview'].fillna('No description')\n",
    "    df['genres']   = df['genres'].fillna('Unknown')\n",
    "\n",
    "    # 4. Удаление «грязных» колонок\n",
    "    df = df.drop(columns=[c for c in ['tagline','created_by','homepage'] if c in df.columns])\n",
    "\n",
    "    return df"
   ]
  },
  {
   "cell_type": "code",
   "execution_count": 5,
   "id": "cd381549-cc56-4e0e-9e85-5eb0c0f44f0c",
   "metadata": {},
   "outputs": [],
   "source": [
    "def clean_movies_data(df):\n",
    " # 0. Копия\n",
    "    df = df.copy()\n",
    "\n",
    "    # 1. Дубликаты\n",
    "    df = df.drop_duplicates().drop_duplicates(subset='id', keep='first')\n",
    "\n",
    "    # 2. Даты: превращаем в datetime и режем анти-футуризм\n",
    "    df['release_date'] = pd.to_datetime(df['release_date'], errors='coerce')\n",
    "    today = pd.Timestamp.now()\n",
    "    df = df[(df['release_date'] >= '1900-01-01') &\n",
    "            (df['release_date'] <= today)]\n",
    "\n",
    "    # 3. Убираем явно ошибочные числовые значения\n",
    "    numeric_cols = ['vote_count', 'runtime', 'budget', 'revenue']\n",
    "    for col in numeric_cols:\n",
    "        if col in df.columns:\n",
    "            df = df[df[col] >= 0]\n",
    "\n",
    "    # 4. Оставляем только фильмы с хотя бы одним голосом\n",
    "    df = df[df['vote_count'] > 0]\n",
    "\n",
    "    # 5. Заполняем пропуски в тексте\n",
    "    text_cols = ['overview', 'genres', 'tagline', 'original_language']\n",
    "    for col in text_cols:\n",
    "        if col in df.columns:\n",
    "            df[col] = df[col].fillna('Unknown')\n",
    "\n",
    "    # 6. Оставляем только нужные колонки\n",
    "    keep = [\n",
    "        'id', 'title', 'original_title', 'overview', 'genres',\n",
    "        'release_date', 'vote_average', 'vote_count',\n",
    "        'popularity', 'runtime', 'budget', 'revenue',\n",
    "        'original_language', 'adult', 'imdb_id'\n",
    "    ]\n",
    "    df = df[[c for c in keep if c in df.columns]]\n",
    "\n",
    "    return df"
   ]
  },
  {
   "cell_type": "code",
   "execution_count": 6,
   "id": "f6922242-f2a5-43f3-8217-619d72ed17f7",
   "metadata": {},
   "outputs": [],
   "source": [
    "df_tv_shows_clean = soft_clean_tv_data(df_tv_shows)\n",
    "df_movies_clean = clean_movies_data(df_movies)"
   ]
  },
  {
   "cell_type": "code",
   "execution_count": 7,
   "id": "8213cb10-e05a-4495-8b64-13df2c6c4e81",
   "metadata": {},
   "outputs": [],
   "source": [
    "def print_clean_stats(original, cleaned, name):\n",
    "    removed = len(original) - len(cleaned)\n",
    "    percent = (removed / len(original)) * 100\n",
    "    print(f\"{name}: Удалено записей - {removed} ({percent:.2f}%)\")"
   ]
  },
  {
   "cell_type": "code",
   "execution_count": 8,
   "id": "973b631a-764b-4abd-a7be-a0f640d75127",
   "metadata": {},
   "outputs": [
    {
     "name": "stdout",
     "output_type": "stream",
     "text": [
      "TV Shows: Удалено записей - 3941 (2.34%)\n",
      "Movies: Удалено записей - 915642 (72.64%)\n"
     ]
    }
   ],
   "source": [
    "print_clean_stats(df_tv_shows, df_tv_shows_clean, \"TV Shows\")\n",
    "print_clean_stats(df_movies, df_movies_clean, \"Movies\")"
   ]
  },
  {
   "cell_type": "code",
   "execution_count": 9,
   "id": "1d5cd1b8-6712-4b06-852c-2519bceb566d",
   "metadata": {},
   "outputs": [
    {
     "data": {
      "text/plain": [
       "(344930, 15)"
      ]
     },
     "execution_count": 9,
     "metadata": {},
     "output_type": "execute_result"
    }
   ],
   "source": [
    "df_movies_clean.shape"
   ]
  },
  {
   "cell_type": "code",
   "execution_count": 10,
   "id": "28915d12-9002-4278-bd8b-93d75ea8e8ca",
   "metadata": {},
   "outputs": [
    {
     "data": {
      "text/plain": [
       "(164698, 26)"
      ]
     },
     "execution_count": 10,
     "metadata": {},
     "output_type": "execute_result"
    }
   ],
   "source": [
    "df_tv_shows_clean.shape"
   ]
  },
  {
   "cell_type": "code",
   "execution_count": 11,
   "id": "b87a35e5-cc92-44e9-8cda-f25ab63a005e",
   "metadata": {},
   "outputs": [],
   "source": [
    "from numpy import percentile\n",
    "\n",
    "df_tv_work = df_tv_shows_clean.copy()"
   ]
  },
  {
   "cell_type": "code",
   "execution_count": 12,
   "id": "5de29411-36c8-403a-8873-a306759e3f66",
   "metadata": {},
   "outputs": [],
   "source": [
    "#Извлекаем все уникальные жанры из всего датасета (включая нулевые рейтинги)\n",
    "all_genres = []\n",
    "for g_str in df_tv_work['genres'].dropna():\n",
    "    all_genres.extend([g.strip() for g in str(g_str).split(',')])"
   ]
  },
  {
   "cell_type": "code",
   "execution_count": 13,
   "id": "c9243ae4-41e2-4be0-8b4c-4da29c2db22d",
   "metadata": {},
   "outputs": [],
   "source": [
    "# Считаем медиану рейтинга для каждого жанра (только по сериалам с реальным рейтингом)\n",
    "genre_ratings = {}\n",
    "for g in set(all_genres):\n",
    "    mask = (df_tv_work['vote_average'] > 0) & \\\n",
    "           (df_tv_work['genres'].astype(str).str.contains(g, na=False))\n",
    "    vals = df_tv_work.loc[mask, 'vote_average']\n",
    "    genre_ratings[g] = percentile(vals.dropna(), 25)   # 25-й перцентиль"
   ]
  },
  {
   "cell_type": "code",
   "execution_count": 14,
   "id": "f03dc6ff-8a47-401f-b9bc-c5b448b46928",
   "metadata": {},
   "outputs": [],
   "source": [
    "# НИЖНИЙ перцентиль по всем сериалам с рейтингом\n",
    "overall_low = percentile(df_tv_work.loc[df_tv_work['vote_average'] > 0, 'vote_average'], 25)"
   ]
  },
  {
   "cell_type": "code",
   "execution_count": 15,
   "id": "0f196d0b-f797-4f92-8742-a2f32efa7d2f",
   "metadata": {},
   "outputs": [],
   "source": [
    "def calculate_genre_rating(row):\n",
    "    if row['vote_average'] > 0:\n",
    "        return row['vote_average']\n",
    "\n",
    "    genre_names = [g.strip() for g in str(row['genres']).split(',')]\n",
    "    valid = [genre_ratings[g] for g in genre_names if g in genre_ratings]\n",
    "\n",
    "    if valid:\n",
    "        base = np.mean(valid)\n",
    "        penalty = 0.6 * len(valid)          # <-- сильнее\n",
    "        return max(1.0, base - penalty)\n",
    "\n",
    "    # дополнительно опускаем на 0.8, если жанры не нашлись\n",
    "    return max(1.0, overall_low - 0.8)"
   ]
  },
  {
   "cell_type": "code",
   "execution_count": 16,
   "id": "4922ef13-0012-42ef-a10e-84ba4af6edbb",
   "metadata": {},
   "outputs": [],
   "source": [
    "df_tv_work['genre_rating'] = df_tv_work.apply(calculate_genre_rating, axis=1)\n",
    "df_tv_work['is_generated'] = df_tv_work['vote_average'] == 0"
   ]
  },
  {
   "cell_type": "code",
   "execution_count": 17,
   "id": "1144565f-33d6-4801-b37c-2cd9bbb820f3",
   "metadata": {},
   "outputs": [
    {
     "name": "stdout",
     "output_type": "stream",
     "text": [
      "Статистика сгенерированных рейтингов:\n",
      "count    107414.000000\n",
      "mean          4.762151\n",
      "std           0.496169\n",
      "min           1.314375\n",
      "25%           4.400000\n",
      "50%           4.400000\n",
      "75%           5.400000\n",
      "max           6.400000\n",
      "Name: genre_rating, dtype: float64\n"
     ]
    }
   ],
   "source": [
    "print(\"Статистика сгенерированных рейтингов:\")\n",
    "print(df_tv_work[df_tv_work['is_generated']]['genre_rating'].describe())"
   ]
  },
  {
   "cell_type": "code",
   "execution_count": 18,
   "id": "88aded32-0a61-40ca-afe7-00ecbcf2922a",
   "metadata": {},
   "outputs": [
    {
     "name": "stdout",
     "output_type": "stream",
     "text": [
      "is_generated\n",
      "True     107414\n",
      "False     57284\n",
      "Name: count, dtype: int64\n"
     ]
    }
   ],
   "source": [
    "print(df_tv_work['is_generated'].value_counts())"
   ]
  },
  {
   "cell_type": "code",
   "execution_count": 19,
   "id": "ec209b71-1b9b-4bdf-85cd-daf7b3071a27",
   "metadata": {},
   "outputs": [
    {
     "data": {
      "text/html": [
       "<div>\n",
       "<style scoped>\n",
       "    .dataframe tbody tr th:only-of-type {\n",
       "        vertical-align: middle;\n",
       "    }\n",
       "\n",
       "    .dataframe tbody tr th {\n",
       "        vertical-align: top;\n",
       "    }\n",
       "\n",
       "    .dataframe thead th {\n",
       "        text-align: right;\n",
       "    }\n",
       "</style>\n",
       "<table border=\"1\" class=\"dataframe\">\n",
       "  <thead>\n",
       "    <tr style=\"text-align: right;\">\n",
       "      <th></th>\n",
       "      <th>name</th>\n",
       "      <th>genres</th>\n",
       "      <th>genre_rating</th>\n",
       "    </tr>\n",
       "  </thead>\n",
       "  <tbody>\n",
       "    <tr>\n",
       "      <th>106381</th>\n",
       "      <td>Unter den Linden – Das Haus Gravenhorst</td>\n",
       "      <td>History</td>\n",
       "      <td>6.4</td>\n",
       "    </tr>\n",
       "    <tr>\n",
       "      <th>119770</th>\n",
       "      <td>So lebten sie alle Tage</td>\n",
       "      <td>History</td>\n",
       "      <td>6.4</td>\n",
       "    </tr>\n",
       "    <tr>\n",
       "      <th>121955</th>\n",
       "      <td>Interview mit der Geschichte</td>\n",
       "      <td>History</td>\n",
       "      <td>6.4</td>\n",
       "    </tr>\n",
       "    <tr>\n",
       "      <th>102185</th>\n",
       "      <td>Abenteuer Bundesrepublik</td>\n",
       "      <td>History</td>\n",
       "      <td>6.4</td>\n",
       "    </tr>\n",
       "    <tr>\n",
       "      <th>165319</th>\n",
       "      <td>Národ sobě</td>\n",
       "      <td>History</td>\n",
       "      <td>6.4</td>\n",
       "    </tr>\n",
       "    <tr>\n",
       "      <th>140987</th>\n",
       "      <td>The Great British Story: Regional Histories</td>\n",
       "      <td>History</td>\n",
       "      <td>6.4</td>\n",
       "    </tr>\n",
       "    <tr>\n",
       "      <th>80518</th>\n",
       "      <td>Le 16 à Kerbriant</td>\n",
       "      <td>War &amp; Politics</td>\n",
       "      <td>5.9</td>\n",
       "    </tr>\n",
       "    <tr>\n",
       "      <th>81006</th>\n",
       "      <td>The Great War</td>\n",
       "      <td>War &amp; Politics</td>\n",
       "      <td>5.9</td>\n",
       "    </tr>\n",
       "    <tr>\n",
       "      <th>138902</th>\n",
       "      <td>我把忠诚献给你</td>\n",
       "      <td>War &amp; Politics</td>\n",
       "      <td>5.9</td>\n",
       "    </tr>\n",
       "    <tr>\n",
       "      <th>63184</th>\n",
       "      <td>The Legend Of The Song Dynasty: Zhao Kuang Yin</td>\n",
       "      <td>War &amp; Politics</td>\n",
       "      <td>5.9</td>\n",
       "    </tr>\n",
       "  </tbody>\n",
       "</table>\n",
       "</div>"
      ],
      "text/plain": [
       "                                                  name          genres  \\\n",
       "106381         Unter den Linden – Das Haus Gravenhorst         History   \n",
       "119770                         So lebten sie alle Tage         History   \n",
       "121955                    Interview mit der Geschichte         History   \n",
       "102185                        Abenteuer Bundesrepublik         History   \n",
       "165319                                      Národ sobě         History   \n",
       "140987     The Great British Story: Regional Histories         History   \n",
       "80518                                Le 16 à Kerbriant  War & Politics   \n",
       "81006                                    The Great War  War & Politics   \n",
       "138902                                         我把忠诚献给你  War & Politics   \n",
       "63184   The Legend Of The Song Dynasty: Zhao Kuang Yin  War & Politics   \n",
       "\n",
       "        genre_rating  \n",
       "106381           6.4  \n",
       "119770           6.4  \n",
       "121955           6.4  \n",
       "102185           6.4  \n",
       "165319           6.4  \n",
       "140987           6.4  \n",
       "80518            5.9  \n",
       "81006            5.9  \n",
       "138902           5.9  \n",
       "63184            5.9  "
      ]
     },
     "execution_count": 19,
     "metadata": {},
     "output_type": "execute_result"
    }
   ],
   "source": [
    "(df_tv_work[df_tv_work['is_generated']].sort_values('genre_rating', ascending=False).head(10)[['name', 'genres', 'genre_rating']])"
   ]
  },
  {
   "cell_type": "code",
   "execution_count": 20,
   "id": "c71716c1-7b45-4da0-a07a-34222a7c0944",
   "metadata": {},
   "outputs": [
    {
     "name": "stdout",
     "output_type": "stream",
     "text": [
      "NaN в vote_average: 0\n",
      "NaN в vote_count  : 0\n"
     ]
    }
   ],
   "source": [
    "nan_vote_avg = df_movies_clean['vote_average'].isna().sum()\n",
    "nan_vote_cnt = df_movies_clean['vote_count'].isna().sum()\n",
    "print(f\"NaN в vote_average: {nan_vote_avg}\")\n",
    "print(f\"NaN в vote_count  : {nan_vote_cnt}\")"
   ]
  },
  {
   "cell_type": "code",
   "execution_count": 21,
   "id": "01398e0b-0f24-4c76-add3-f388978f8764",
   "metadata": {},
   "outputs": [
    {
     "name": "stdout",
     "output_type": "stream",
     "text": [
      "0 в vote_average : 744\n",
      "0 в vote_count   : 0\n"
     ]
    }
   ],
   "source": [
    "zero_vote_avg = (df_movies_clean['vote_average'] == 0).sum()\n",
    "zero_vote_cnt = (df_movies_clean['vote_count'] == 0).sum()\n",
    "print(f\"0 в vote_average : {zero_vote_avg}\")\n",
    "print(f\"0 в vote_count   : {zero_vote_cnt}\")"
   ]
  },
  {
   "cell_type": "code",
   "execution_count": 22,
   "id": "bd573fd6-3a11-4593-8206-5537f5cc2f99",
   "metadata": {},
   "outputs": [
    {
     "name": "stdout",
     "output_type": "stream",
     "text": [
      "        vote_average     vote_count\n",
      "count  344930.000000  344930.000000\n",
      "mean        6.084013      62.123486\n",
      "std         1.968642     575.859425\n",
      "min         0.000000       1.000000\n",
      "25%         5.000000       1.000000\n",
      "50%         6.000000       3.000000\n",
      "75%         7.025000       8.000000\n",
      "max        10.000000   34495.000000\n"
     ]
    }
   ],
   "source": [
    "print(df_movies_clean[['vote_average', 'vote_count']].describe())"
   ]
  },
  {
   "cell_type": "code",
   "execution_count": 23,
   "id": "83be18c0-6b60-4842-a12c-e2e5b1b52839",
   "metadata": {},
   "outputs": [],
   "source": [
    "df_movie_final = df_movies_clean[[\n",
    "    'id', 'title', 'overview', 'genres',\n",
    "    'vote_average', 'vote_count', 'release_date'\n",
    "]].copy()\n",
    "\n",
    "df_movie_final['item_id'] = 'm_' + df_movie_final['id'].astype(str)\n",
    "df_movie_final['rating'] = df_movie_final['vote_average']\n",
    "df_movie_final['rating_source'] = 'real'\n",
    "df_movie_final['media_type'] = 'movie'\n",
    "df_movie_final['description'] = df_movie_final['overview'].fillna('No description')\n",
    "df_movie_final['release_year'] = pd.to_datetime(df_movie_final['release_date']).dt.year\n",
    "df_movie_final['decade'] = (df_movie_final['release_year'] // 10) * 10"
   ]
  },
  {
   "cell_type": "code",
   "execution_count": 24,
   "id": "fc0cedc2-0478-441d-a517-153cc6272298",
   "metadata": {},
   "outputs": [],
   "source": [
    "df_tv_final = df_tv_work[[\n",
    "    'id', 'name', 'overview', 'genres',\n",
    "    'genre_rating', 'is_generated', 'vote_count', 'first_air_date'\n",
    "]].copy()\n",
    "\n",
    "df_tv_final['item_id'] = 't_' + df_tv_final['id'].astype(str)\n",
    "df_tv_final['rating'] = df_tv_final['genre_rating']\n",
    "df_tv_final['rating_source'] = np.where(df_tv_final['is_generated'], 'generated', 'real')\n",
    "df_tv_final['media_type'] = 'tv'\n",
    "df_tv_final['description'] = df_tv_final['overview'].fillna('No description')\n",
    "df_tv_final['release_year'] = pd.to_datetime(df_tv_final['first_air_date']).dt.year\n",
    "df_tv_final['decade'] = (df_tv_final['release_year'] // 10) * 10"
   ]
  },
  {
   "cell_type": "code",
   "execution_count": 25,
   "id": "a588ed50-553f-408a-957e-8f5f79ecffe8",
   "metadata": {},
   "outputs": [],
   "source": [
    "common_cols = ['id', 'description', 'genres', 'rating', 'is_generated', 'media_type', 'release_year']"
   ]
  },
  {
   "cell_type": "code",
   "execution_count": 26,
   "id": "b35a5fac-a2ea-4f70-b740-245aa48712e5",
   "metadata": {},
   "outputs": [],
   "source": [
    "df_movie = (df_movie_final.assign(description=df_movie_final['overview'].fillna('No description'),\n",
    "                    is_generated=False, # фильмы всегда real\n",
    "                    media_type='movie',\n",
    "                    release_year=pd.to_datetime(df_movie_final['release_date']).dt.year)\n",
    "            .rename(columns={'title': 'name'})) # единое имя столбца"
   ]
  },
  {
   "cell_type": "code",
   "execution_count": 27,
   "id": "38ff236d-02f5-4bd7-abed-0cd5a98245d0",
   "metadata": {},
   "outputs": [],
   "source": [
    "df_tv = (df_tv_final.assign(description=df_tv_final['overview'].fillna('No description'),\n",
    "                 media_type='tv',\n",
    "                 release_year=pd.to_datetime(df_tv_final['first_air_date']).dt.year))"
   ]
  },
  {
   "cell_type": "code",
   "execution_count": 28,
   "id": "51718456-bc62-48d7-a369-88974b00b3b6",
   "metadata": {},
   "outputs": [],
   "source": [
    "df_items = (\n",
    "    pd.concat([\n",
    "        df_movie.assign(item_id='m_' + df_movie['id'].astype(str)),\n",
    "        df_tv.assign(item_id='t_' + df_tv['id'].astype(str))\n",
    "    ], ignore_index=True)\n",
    "    [['item_id', 'name', 'description', 'genres', 'rating',\n",
    "      'is_generated', 'media_type', 'release_year', 'decade']]\n",
    ")"
   ]
  },
  {
   "cell_type": "code",
   "execution_count": 29,
   "id": "455a6a1d-54f0-40e5-8564-a14eb828ec4d",
   "metadata": {},
   "outputs": [
    {
     "data": {
      "text/html": [
       "<div>\n",
       "<style scoped>\n",
       "    .dataframe tbody tr th:only-of-type {\n",
       "        vertical-align: middle;\n",
       "    }\n",
       "\n",
       "    .dataframe tbody tr th {\n",
       "        vertical-align: top;\n",
       "    }\n",
       "\n",
       "    .dataframe thead th {\n",
       "        text-align: right;\n",
       "    }\n",
       "</style>\n",
       "<table border=\"1\" class=\"dataframe\">\n",
       "  <thead>\n",
       "    <tr style=\"text-align: right;\">\n",
       "      <th></th>\n",
       "      <th>item_id</th>\n",
       "      <th>name</th>\n",
       "      <th>description</th>\n",
       "      <th>genres</th>\n",
       "      <th>rating</th>\n",
       "      <th>is_generated</th>\n",
       "      <th>media_type</th>\n",
       "      <th>release_year</th>\n",
       "      <th>decade</th>\n",
       "    </tr>\n",
       "  </thead>\n",
       "  <tbody>\n",
       "    <tr>\n",
       "      <th>0</th>\n",
       "      <td>m_27205</td>\n",
       "      <td>Inception</td>\n",
       "      <td>Cobb, a skilled thief who commits corporate es...</td>\n",
       "      <td>Action, Science Fiction, Adventure</td>\n",
       "      <td>8.364</td>\n",
       "      <td>False</td>\n",
       "      <td>movie</td>\n",
       "      <td>2010.0</td>\n",
       "      <td>2010.0</td>\n",
       "    </tr>\n",
       "    <tr>\n",
       "      <th>1</th>\n",
       "      <td>m_157336</td>\n",
       "      <td>Interstellar</td>\n",
       "      <td>The adventures of a group of explorers who mak...</td>\n",
       "      <td>Adventure, Drama, Science Fiction</td>\n",
       "      <td>8.417</td>\n",
       "      <td>False</td>\n",
       "      <td>movie</td>\n",
       "      <td>2014.0</td>\n",
       "      <td>2010.0</td>\n",
       "    </tr>\n",
       "    <tr>\n",
       "      <th>2</th>\n",
       "      <td>m_155</td>\n",
       "      <td>The Dark Knight</td>\n",
       "      <td>Batman raises the stakes in his war on crime. ...</td>\n",
       "      <td>Drama, Action, Crime, Thriller</td>\n",
       "      <td>8.512</td>\n",
       "      <td>False</td>\n",
       "      <td>movie</td>\n",
       "      <td>2008.0</td>\n",
       "      <td>2000.0</td>\n",
       "    </tr>\n",
       "    <tr>\n",
       "      <th>3</th>\n",
       "      <td>m_19995</td>\n",
       "      <td>Avatar</td>\n",
       "      <td>In the 22nd century, a paraplegic Marine is di...</td>\n",
       "      <td>Action, Adventure, Fantasy, Science Fiction</td>\n",
       "      <td>7.573</td>\n",
       "      <td>False</td>\n",
       "      <td>movie</td>\n",
       "      <td>2009.0</td>\n",
       "      <td>2000.0</td>\n",
       "    </tr>\n",
       "    <tr>\n",
       "      <th>4</th>\n",
       "      <td>m_24428</td>\n",
       "      <td>The Avengers</td>\n",
       "      <td>When an unexpected enemy emerges and threatens...</td>\n",
       "      <td>Science Fiction, Action, Adventure</td>\n",
       "      <td>7.710</td>\n",
       "      <td>False</td>\n",
       "      <td>movie</td>\n",
       "      <td>2012.0</td>\n",
       "      <td>2010.0</td>\n",
       "    </tr>\n",
       "  </tbody>\n",
       "</table>\n",
       "</div>"
      ],
      "text/plain": [
       "    item_id             name  \\\n",
       "0   m_27205        Inception   \n",
       "1  m_157336     Interstellar   \n",
       "2     m_155  The Dark Knight   \n",
       "3   m_19995           Avatar   \n",
       "4   m_24428     The Avengers   \n",
       "\n",
       "                                         description  \\\n",
       "0  Cobb, a skilled thief who commits corporate es...   \n",
       "1  The adventures of a group of explorers who mak...   \n",
       "2  Batman raises the stakes in his war on crime. ...   \n",
       "3  In the 22nd century, a paraplegic Marine is di...   \n",
       "4  When an unexpected enemy emerges and threatens...   \n",
       "\n",
       "                                        genres  rating  is_generated  \\\n",
       "0           Action, Science Fiction, Adventure   8.364         False   \n",
       "1            Adventure, Drama, Science Fiction   8.417         False   \n",
       "2               Drama, Action, Crime, Thriller   8.512         False   \n",
       "3  Action, Adventure, Fantasy, Science Fiction   7.573         False   \n",
       "4           Science Fiction, Action, Adventure   7.710         False   \n",
       "\n",
       "  media_type  release_year  decade  \n",
       "0      movie        2010.0  2010.0  \n",
       "1      movie        2014.0  2010.0  \n",
       "2      movie        2008.0  2000.0  \n",
       "3      movie        2009.0  2000.0  \n",
       "4      movie        2012.0  2010.0  "
      ]
     },
     "execution_count": 29,
     "metadata": {},
     "output_type": "execute_result"
    }
   ],
   "source": [
    "df_items.head()"
   ]
  },
  {
   "cell_type": "code",
   "execution_count": 30,
   "id": "91e24e08-f866-40e0-85b8-0886b80f72ff",
   "metadata": {},
   "outputs": [
    {
     "data": {
      "text/plain": [
       "(509628, 9)"
      ]
     },
     "execution_count": 30,
     "metadata": {},
     "output_type": "execute_result"
    }
   ],
   "source": [
    "df_items.shape"
   ]
  },
  {
   "cell_type": "code",
   "execution_count": 31,
   "id": "7194965e-9c30-4786-b36e-dfc27aa9fcc4",
   "metadata": {},
   "outputs": [
    {
     "name": "stdout",
     "output_type": "stream",
     "text": [
      "count    509628.000000\n",
      "mean          5.890229\n",
      "std           1.879376\n",
      "min           0.000000\n",
      "25%           4.500000\n",
      "50%           5.700000\n",
      "75%           7.000000\n",
      "max          10.000000\n",
      "Name: rating, dtype: float64\n"
     ]
    }
   ],
   "source": [
    "print(df_items['rating'].describe())"
   ]
  },
  {
   "cell_type": "code",
   "execution_count": 32,
   "id": "3e05af57-bdbc-4626-b46b-77c6fd72e3b7",
   "metadata": {},
   "outputs": [
    {
     "data": {
      "image/png": "[encoded data removed]",
      "text/plain": [
       "<Figure size 600x300 with 1 Axes>"
      ]
     },
     "metadata": {},
     "output_type": "display_data"
    }
   ],
   "source": [
    "import matplotlib.pyplot as plt\n",
    "plt.figure(figsize=(6,3))\n",
    "plt.hist(df_items['rating'], bins=50, alpha=0.7, color='skyblue')\n",
    "plt.title('Распределение оценок (0–10)')\n",
    "plt.xlabel('rating')\n",
    "plt.ylabel('количество')\n",
    "plt.tight_layout(); plt.show()"
   ]
  },
  {
   "cell_type": "code",
   "execution_count": 33,
   "id": "a997a07f-d873-40a4-bd9c-d905271920ac",
   "metadata": {},
   "outputs": [
    {
     "data": {
      "text/html": [
       "<div>\n",
       "<style scoped>\n",
       "    .dataframe tbody tr th:only-of-type {\n",
       "        vertical-align: middle;\n",
       "    }\n",
       "\n",
       "    .dataframe tbody tr th {\n",
       "        vertical-align: top;\n",
       "    }\n",
       "\n",
       "    .dataframe thead th {\n",
       "        text-align: right;\n",
       "    }\n",
       "</style>\n",
       "<table border=\"1\" class=\"dataframe\">\n",
       "  <thead>\n",
       "    <tr style=\"text-align: right;\">\n",
       "      <th></th>\n",
       "      <th>item_id</th>\n",
       "      <th>name</th>\n",
       "      <th>media_type</th>\n",
       "    </tr>\n",
       "  </thead>\n",
       "  <tbody>\n",
       "    <tr>\n",
       "      <th>29290</th>\n",
       "      <td>m_495686</td>\n",
       "      <td>What's New Scooby-Doo? Vol. 4: Merry Scary Hol...</td>\n",
       "      <td>movie</td>\n",
       "    </tr>\n",
       "    <tr>\n",
       "      <th>29393</th>\n",
       "      <td>m_392622</td>\n",
       "      <td>What's New, Scooby-Doo? Vol. 7: Ready to Scare</td>\n",
       "      <td>movie</td>\n",
       "    </tr>\n",
       "    <tr>\n",
       "      <th>31914</th>\n",
       "      <td>m_609737</td>\n",
       "      <td>The 1st 13th Annual Fancy Anvil Awards Show Pr...</td>\n",
       "      <td>movie</td>\n",
       "    </tr>\n",
       "    <tr>\n",
       "      <th>39402</th>\n",
       "      <td>m_571278</td>\n",
       "      <td>Scooby-Doo's Original Mysteries</td>\n",
       "      <td>movie</td>\n",
       "    </tr>\n",
       "    <tr>\n",
       "      <th>44605</th>\n",
       "      <td>m_638443</td>\n",
       "      <td>Scooby-Doo: Agence toutou risques, vol. 1 : Le...</td>\n",
       "      <td>movie</td>\n",
       "    </tr>\n",
       "  </tbody>\n",
       "</table>\n",
       "</div>"
      ],
      "text/plain": [
       "        item_id                                               name media_type\n",
       "29290  m_495686  What's New Scooby-Doo? Vol. 4: Merry Scary Hol...      movie\n",
       "29393  m_392622     What's New, Scooby-Doo? Vol. 7: Ready to Scare      movie\n",
       "31914  m_609737  The 1st 13th Annual Fancy Anvil Awards Show Pr...      movie\n",
       "39402  m_571278                    Scooby-Doo's Original Mysteries      movie\n",
       "44605  m_638443  Scooby-Doo: Agence toutou risques, vol. 1 : Le...      movie"
      ]
     },
     "execution_count": 33,
     "metadata": {},
     "output_type": "execute_result"
    }
   ],
   "source": [
    "top_items = df_items[df_items['rating'] == 10.0][['item_id', 'name', 'media_type']]\n",
    "top_items.head()"
   ]
  },
  {
   "cell_type": "code",
   "execution_count": 34,
   "id": "b8e5250c-fad5-4324-89ad-fdd9d625acf4",
   "metadata": {},
   "outputs": [
    {
     "name": "stdout",
     "output_type": "stream",
     "text": [
      "Всего 10-балльных записей: 29005\n"
     ]
    }
   ],
   "source": [
    "count_10 = df_items[df_items['rating'] == 10.0].shape[0]\n",
    "print(\"Всего 10-балльных записей:\", count_10)"
   ]
  },
  {
   "cell_type": "code",
   "execution_count": 35,
   "id": "4df7cd77-f887-4b35-9ab8-15a7b6ef5115",
   "metadata": {},
   "outputs": [],
   "source": [
    "from sklearn.preprocessing import MinMaxScaler\n",
    "\n",
    "scaler = MinMaxScaler(feature_range=(0.5, 5.0))\n",
    "df_items['rating_scaled'] = scaler.fit_transform(df_items[['rating']]).ravel()"
   ]
  },
  {
   "cell_type": "code",
   "execution_count": 36,
   "id": "b2e15e47-f932-4ac1-ae7f-753aa62124f0",
   "metadata": {},
   "outputs": [
    {
     "data": {
      "text/plain": [
       "count    509628.000000\n",
       "mean          3.150603\n",
       "std           0.845719\n",
       "min           0.500000\n",
       "25%           2.525000\n",
       "50%           3.065000\n",
       "75%           3.650000\n",
       "max           5.000000\n",
       "Name: rating_scaled, dtype: float64"
      ]
     },
     "execution_count": 36,
     "metadata": {},
     "output_type": "execute_result"
    }
   ],
   "source": [
    "df_items['rating_scaled'].describe()"
   ]
  },
  {
   "cell_type": "code",
   "execution_count": 37,
   "id": "045b07ce-31f0-4ccd-b7d1-d5ce9d115972",
   "metadata": {},
   "outputs": [],
   "source": [
    "df_items = df_items.drop(columns=['rating'])"
   ]
  },
  {
   "cell_type": "code",
   "execution_count": 38,
   "id": "27a6acd2-96e3-481e-b98b-570f9e1b0929",
   "metadata": {},
   "outputs": [],
   "source": [
    "df_items['is_generated'] = df_items['is_generated'].astype(int)"
   ]
  },
  {
   "cell_type": "code",
   "execution_count": 39,
   "id": "bf8f7f39-7aba-44a8-b5a8-4026f9b417c3",
   "metadata": {},
   "outputs": [
    {
     "data": {
      "text/html": [
       "<div>\n",
       "<style scoped>\n",
       "    .dataframe tbody tr th:only-of-type {\n",
       "        vertical-align: middle;\n",
       "    }\n",
       "\n",
       "    .dataframe tbody tr th {\n",
       "        vertical-align: top;\n",
       "    }\n",
       "\n",
       "    .dataframe thead th {\n",
       "        text-align: right;\n",
       "    }\n",
       "</style>\n",
       "<table border=\"1\" class=\"dataframe\">\n",
       "  <thead>\n",
       "    <tr style=\"text-align: right;\">\n",
       "      <th></th>\n",
       "      <th>item_id</th>\n",
       "      <th>name</th>\n",
       "      <th>description</th>\n",
       "      <th>genres</th>\n",
       "      <th>is_generated</th>\n",
       "      <th>media_type</th>\n",
       "      <th>release_year</th>\n",
       "      <th>decade</th>\n",
       "      <th>rating_scaled</th>\n",
       "    </tr>\n",
       "  </thead>\n",
       "  <tbody>\n",
       "    <tr>\n",
       "      <th>0</th>\n",
       "      <td>m_27205</td>\n",
       "      <td>Inception</td>\n",
       "      <td>Cobb, a skilled thief who commits corporate es...</td>\n",
       "      <td>Action, Science Fiction, Adventure</td>\n",
       "      <td>0</td>\n",
       "      <td>movie</td>\n",
       "      <td>2010.0</td>\n",
       "      <td>2010.0</td>\n",
       "      <td>4.26380</td>\n",
       "    </tr>\n",
       "    <tr>\n",
       "      <th>1</th>\n",
       "      <td>m_157336</td>\n",
       "      <td>Interstellar</td>\n",
       "      <td>The adventures of a group of explorers who mak...</td>\n",
       "      <td>Adventure, Drama, Science Fiction</td>\n",
       "      <td>0</td>\n",
       "      <td>movie</td>\n",
       "      <td>2014.0</td>\n",
       "      <td>2010.0</td>\n",
       "      <td>4.28765</td>\n",
       "    </tr>\n",
       "    <tr>\n",
       "      <th>2</th>\n",
       "      <td>m_155</td>\n",
       "      <td>The Dark Knight</td>\n",
       "      <td>Batman raises the stakes in his war on crime. ...</td>\n",
       "      <td>Drama, Action, Crime, Thriller</td>\n",
       "      <td>0</td>\n",
       "      <td>movie</td>\n",
       "      <td>2008.0</td>\n",
       "      <td>2000.0</td>\n",
       "      <td>4.33040</td>\n",
       "    </tr>\n",
       "    <tr>\n",
       "      <th>3</th>\n",
       "      <td>m_19995</td>\n",
       "      <td>Avatar</td>\n",
       "      <td>In the 22nd century, a paraplegic Marine is di...</td>\n",
       "      <td>Action, Adventure, Fantasy, Science Fiction</td>\n",
       "      <td>0</td>\n",
       "      <td>movie</td>\n",
       "      <td>2009.0</td>\n",
       "      <td>2000.0</td>\n",
       "      <td>3.90785</td>\n",
       "    </tr>\n",
       "    <tr>\n",
       "      <th>4</th>\n",
       "      <td>m_24428</td>\n",
       "      <td>The Avengers</td>\n",
       "      <td>When an unexpected enemy emerges and threatens...</td>\n",
       "      <td>Science Fiction, Action, Adventure</td>\n",
       "      <td>0</td>\n",
       "      <td>movie</td>\n",
       "      <td>2012.0</td>\n",
       "      <td>2010.0</td>\n",
       "      <td>3.96950</td>\n",
       "    </tr>\n",
       "  </tbody>\n",
       "</table>\n",
       "</div>"
      ],
      "text/plain": [
       "    item_id             name  \\\n",
       "0   m_27205        Inception   \n",
       "1  m_157336     Interstellar   \n",
       "2     m_155  The Dark Knight   \n",
       "3   m_19995           Avatar   \n",
       "4   m_24428     The Avengers   \n",
       "\n",
       "                                         description  \\\n",
       "0  Cobb, a skilled thief who commits corporate es...   \n",
       "1  The adventures of a group of explorers who mak...   \n",
       "2  Batman raises the stakes in his war on crime. ...   \n",
       "3  In the 22nd century, a paraplegic Marine is di...   \n",
       "4  When an unexpected enemy emerges and threatens...   \n",
       "\n",
       "                                        genres  is_generated media_type  \\\n",
       "0           Action, Science Fiction, Adventure             0      movie   \n",
       "1            Adventure, Drama, Science Fiction             0      movie   \n",
       "2               Drama, Action, Crime, Thriller             0      movie   \n",
       "3  Action, Adventure, Fantasy, Science Fiction             0      movie   \n",
       "4           Science Fiction, Action, Adventure             0      movie   \n",
       "\n",
       "   release_year  decade  rating_scaled  \n",
       "0        2010.0  2010.0        4.26380  \n",
       "1        2014.0  2010.0        4.28765  \n",
       "2        2008.0  2000.0        4.33040  \n",
       "3        2009.0  2000.0        3.90785  \n",
       "4        2012.0  2010.0        3.96950  "
      ]
     },
     "execution_count": 39,
     "metadata": {},
     "output_type": "execute_result"
    }
   ],
   "source": [
    "df_items.head()"
   ]
  },
  {
   "cell_type": "code",
   "execution_count": 40,
   "id": "6fc24c75-76e7-4227-9ab8-9f938ec6451a",
   "metadata": {},
   "outputs": [
    {
     "data": {
      "text/plain": [
       "count    164698.000000\n",
       "mean         13.621720\n",
       "std         193.067356\n",
       "min           0.000000\n",
       "25%           0.000000\n",
       "50%           0.000000\n",
       "75%           1.000000\n",
       "max       21857.000000\n",
       "Name: vote_count, dtype: float64"
      ]
     },
     "execution_count": 40,
     "metadata": {},
     "output_type": "execute_result"
    }
   ],
   "source": [
    "df_tv_shows_clean['vote_count'].describe()"
   ]
  },
  {
   "cell_type": "code",
   "execution_count": 41,
   "id": "80bc1e83-9bdf-40f5-a325-c0cef7ce1dc9",
   "metadata": {},
   "outputs": [
    {
     "data": {
      "text/plain": [
       "count    344930.000000\n",
       "mean         62.123486\n",
       "std         575.859425\n",
       "min           1.000000\n",
       "25%           1.000000\n",
       "50%           3.000000\n",
       "75%           8.000000\n",
       "max       34495.000000\n",
       "Name: vote_count, dtype: float64"
      ]
     },
     "execution_count": 41,
     "metadata": {},
     "output_type": "execute_result"
    }
   ],
   "source": [
    "df_movies_clean['vote_count'].describe()"
   ]
  },
  {
   "cell_type": "code",
   "execution_count": 42,
   "id": "2776ca70-0952-48a6-97cf-7cf3a4022e2b",
   "metadata": {},
   "outputs": [
    {
     "data": {
      "image/png": "[encoded data removed]",
      "text/plain": [
       "<Figure size 700x300 with 1 Axes>"
      ]
     },
     "metadata": {},
     "output_type": "display_data"
    }
   ],
   "source": [
    "plt.figure(figsize=(7,3))\n",
    "plt.hist(df_movies_clean['vote_count'], bins=50, color='steelblue', alpha=0.7)\n",
    "plt.yscale('log')\n",
    "plt.title('Распределение vote_count – фильмы')\n",
    "plt.xlabel('vote_count')\n",
    "plt.ylabel('частота (log)')\n",
    "plt.tight_layout()\n",
    "plt.show()"
   ]
  },
  {
   "cell_type": "code",
   "execution_count": 43,
   "id": "d93e6914-bc34-4986-a0e1-50f3d5b5d291",
   "metadata": {},
   "outputs": [
    {
     "data": {
      "image/png": "[encoded data removed]",
      "text/plain": [
       "<Figure size 700x300 with 1 Axes>"
      ]
     },
     "metadata": {},
     "output_type": "display_data"
    }
   ],
   "source": [
    "plt.figure(figsize=(7,3))\n",
    "plt.hist(df_tv_shows_clean['vote_count'], bins=50, color='firebrick', alpha=0.7)\n",
    "plt.yscale('log')\n",
    "plt.title('Распределение vote_count – сериалы')\n",
    "plt.xlabel('vote_count')\n",
    "plt.ylabel('частота (log)')\n",
    "plt.tight_layout()\n",
    "plt.show()"
   ]
  },
  {
   "cell_type": "code",
   "execution_count": 44,
   "id": "f983bc8f-45f3-4741-ab81-bde82a78a432",
   "metadata": {},
   "outputs": [
    {
     "name": "stdout",
     "output_type": "stream",
     "text": [
      "Фильмы:\n",
      "vote_count\n",
      "0–99       326753\n",
      "100–299      9191\n",
      "300–499      2559\n",
      "Name: count, dtype: int64\n"
     ]
    }
   ],
   "source": [
    "bins_movies = [0, 100, 300, 500]\n",
    "labels_movies = ['0–99', '100–299', '300–499']\n",
    "movies_counts = pd.cut(df_movies_clean['vote_count'],\n",
    "                       bins=bins_movies,\n",
    "                       labels=labels_movies,\n",
    "                       right=False).value_counts()\n",
    "print(\"Фильмы:\")\n",
    "print(movies_counts)\n"
   ]
  },
  {
   "cell_type": "code",
   "execution_count": 45,
   "id": "7c438db1-15ca-4987-ad3d-e25518710c63",
   "metadata": {},
   "outputs": [
    {
     "name": "stdout",
     "output_type": "stream",
     "text": [
      "\n",
      "Сериалы:\n",
      "vote_count\n",
      "0–99       161668\n",
      "100–299      1733\n",
      "300–499       455\n",
      "Name: count, dtype: int64\n"
     ]
    }
   ],
   "source": [
    "bins_tv = [0, 100, 300, 500]\n",
    "labels_tv = ['0–99', '100–299', '300–499']\n",
    "tv_counts = pd.cut(df_tv_shows_clean['vote_count'],\n",
    "                    bins=bins_tv,\n",
    "                    labels=labels_tv,\n",
    "                    right=False).value_counts()\n",
    "print(\"\\nСериалы:\")\n",
    "print(tv_counts)"
   ]
  },
  {
   "cell_type": "code",
   "execution_count": 46,
   "id": "75ba1c5d-5efe-43b0-b2b0-9d96e471a4fa",
   "metadata": {},
   "outputs": [],
   "source": [
    "df_items.to_csv('df_items_final.csv', index=False, encoding='utf-8')"
   ]
  }
 ],
 "metadata": {
  "kernelspec": {
   "display_name": "Python 3 (ipykernel)",
   "language": "python",
   "name": "python3"
  },
  "language_info": {
   "codemirror_mode": {
    "name": "ipython",
    "version": 3
   },
   "file_extension": ".py",
   "mimetype": "text/x-python",
   "name": "python",
   "nbconvert_exporter": "python",
   "pygments_lexer": "ipython3",
   "version": "3.13.1"
  }
 },
 "nbformat": 4,
 "nbformat_minor": 5
}
