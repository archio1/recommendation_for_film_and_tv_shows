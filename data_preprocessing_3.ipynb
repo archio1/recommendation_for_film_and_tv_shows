{
 "cells": [
  {
   "cell_type": "code",
   "execution_count": 1,
   "id": "273e4b9f-4015-4911-9774-58276d1ccaa1",
   "metadata": {},
   "outputs": [],
   "source": [
    "import pandas as pd\n",
    "import numpy as np\n",
    "import matplotlib.pyplot as plt\n",
    "from collections import Counter"
   ]
  },
  {
   "cell_type": "code",
   "execution_count": 2,
   "id": "a81337ac-e56e-482a-b26d-63b72f8c88ef",
   "metadata": {},
   "outputs": [
    {
     "data": {
      "text/html": [
       "<div>\n",
       "<style scoped>\n",
       "    .dataframe tbody tr th:only-of-type {\n",
       "        vertical-align: middle;\n",
       "    }\n",
       "\n",
       "    .dataframe tbody tr th {\n",
       "        vertical-align: top;\n",
       "    }\n",
       "\n",
       "    .dataframe thead th {\n",
       "        text-align: right;\n",
       "    }\n",
       "</style>\n",
       "<table border=\"1\" class=\"dataframe\">\n",
       "  <thead>\n",
       "    <tr style=\"text-align: right;\">\n",
       "      <th></th>\n",
       "      <th>item_id</th>\n",
       "      <th>name</th>\n",
       "      <th>description</th>\n",
       "      <th>genres</th>\n",
       "      <th>is_generated</th>\n",
       "      <th>media_type</th>\n",
       "      <th>release_year</th>\n",
       "      <th>decade</th>\n",
       "      <th>rating_scaled</th>\n",
       "    </tr>\n",
       "  </thead>\n",
       "  <tbody>\n",
       "    <tr>\n",
       "      <th>0</th>\n",
       "      <td>m_27205</td>\n",
       "      <td>Inception</td>\n",
       "      <td>Cobb, a skilled thief who commits corporate es...</td>\n",
       "      <td>Action, Science Fiction, Adventure</td>\n",
       "      <td>0</td>\n",
       "      <td>movie</td>\n",
       "      <td>2010.0</td>\n",
       "      <td>2010.0</td>\n",
       "      <td>4.26380</td>\n",
       "    </tr>\n",
       "    <tr>\n",
       "      <th>1</th>\n",
       "      <td>m_157336</td>\n",
       "      <td>Interstellar</td>\n",
       "      <td>The adventures of a group of explorers who mak...</td>\n",
       "      <td>Adventure, Drama, Science Fiction</td>\n",
       "      <td>0</td>\n",
       "      <td>movie</td>\n",
       "      <td>2014.0</td>\n",
       "      <td>2010.0</td>\n",
       "      <td>4.28765</td>\n",
       "    </tr>\n",
       "    <tr>\n",
       "      <th>2</th>\n",
       "      <td>m_155</td>\n",
       "      <td>The Dark Knight</td>\n",
       "      <td>Batman raises the stakes in his war on crime. ...</td>\n",
       "      <td>Drama, Action, Crime, Thriller</td>\n",
       "      <td>0</td>\n",
       "      <td>movie</td>\n",
       "      <td>2008.0</td>\n",
       "      <td>2000.0</td>\n",
       "      <td>4.33040</td>\n",
       "    </tr>\n",
       "    <tr>\n",
       "      <th>3</th>\n",
       "      <td>m_19995</td>\n",
       "      <td>Avatar</td>\n",
       "      <td>In the 22nd century, a paraplegic Marine is di...</td>\n",
       "      <td>Action, Adventure, Fantasy, Science Fiction</td>\n",
       "      <td>0</td>\n",
       "      <td>movie</td>\n",
       "      <td>2009.0</td>\n",
       "      <td>2000.0</td>\n",
       "      <td>3.90785</td>\n",
       "    </tr>\n",
       "    <tr>\n",
       "      <th>4</th>\n",
       "      <td>m_24428</td>\n",
       "      <td>The Avengers</td>\n",
       "      <td>When an unexpected enemy emerges and threatens...</td>\n",
       "      <td>Science Fiction, Action, Adventure</td>\n",
       "      <td>0</td>\n",
       "      <td>movie</td>\n",
       "      <td>2012.0</td>\n",
       "      <td>2010.0</td>\n",
       "      <td>3.96950</td>\n",
       "    </tr>\n",
       "  </tbody>\n",
       "</table>\n",
       "</div>"
      ],
      "text/plain": [
       "    item_id             name  \\\n",
       "0   m_27205        Inception   \n",
       "1  m_157336     Interstellar   \n",
       "2     m_155  The Dark Knight   \n",
       "3   m_19995           Avatar   \n",
       "4   m_24428     The Avengers   \n",
       "\n",
       "                                         description  \\\n",
       "0  Cobb, a skilled thief who commits corporate es...   \n",
       "1  The adventures of a group of explorers who mak...   \n",
       "2  Batman raises the stakes in his war on crime. ...   \n",
       "3  In the 22nd century, a paraplegic Marine is di...   \n",
       "4  When an unexpected enemy emerges and threatens...   \n",
       "\n",
       "                                        genres  is_generated media_type  \\\n",
       "0           Action, Science Fiction, Adventure             0      movie   \n",
       "1            Adventure, Drama, Science Fiction             0      movie   \n",
       "2               Drama, Action, Crime, Thriller             0      movie   \n",
       "3  Action, Adventure, Fantasy, Science Fiction             0      movie   \n",
       "4           Science Fiction, Action, Adventure             0      movie   \n",
       "\n",
       "   release_year  decade  rating_scaled  \n",
       "0        2010.0  2010.0        4.26380  \n",
       "1        2014.0  2010.0        4.28765  \n",
       "2        2008.0  2000.0        4.33040  \n",
       "3        2009.0  2000.0        3.90785  \n",
       "4        2012.0  2010.0        3.96950  "
      ]
     },
     "execution_count": 2,
     "metadata": {},
     "output_type": "execute_result"
    }
   ],
   "source": [
    "df_item = pd.read_csv(r'C:\\PycharmProjects\\PythonProject\\recommendation_for_films\\df_items_final.csv')\n",
    "df_item.head()"
   ]
  },
  {
   "cell_type": "code",
   "execution_count": 3,
   "id": "cc26fe0e-6a34-4949-b57a-6cc5d4a5c239",
   "metadata": {},
   "outputs": [],
   "source": [
    "df_item[\"genres\"] = df_item[\"genres\"].str.split(\", \")\n",
    "all_genres = [g.strip() for sub in df_item[\"genres\"].dropna() for g in sub]"
   ]
  },
  {
   "cell_type": "code",
   "execution_count": 4,
   "id": "7846b95d-b361-4493-97f8-738b7a453b97",
   "metadata": {},
   "outputs": [
    {
     "name": "stdout",
     "output_type": "stream",
     "text": [
      "Всего уникальных жанров: 29\n",
      "                 genre   count\n",
      "3                Drama  142534\n",
      "19             Unknown  122388\n",
      "7               Comedy   98554\n",
      "18         Documentary   69616\n",
      "12           Animation   33172\n",
      "8              Romance   31168\n",
      "5             Thriller   28846\n",
      "0               Action   26933\n",
      "4                Crime   26833\n",
      "14              Horror   25231\n",
      "13              Family   21905\n",
      "15               Music   19270\n",
      "10             Mystery   16578\n",
      "2            Adventure   14645\n",
      "17            TV Movie   14237\n",
      "1      Science Fiction   12086\n",
      "6              Fantasy   11942\n",
      "25             Reality   10755\n",
      "16             History    8568\n",
      "21  Action & Adventure    7196\n"
     ]
    }
   ],
   "source": [
    "genre_counts = Counter(all_genres)\n",
    "genre_df = pd.DataFrame(genre_counts.items(),columns=[\"genre\", \"count\"]).sort_values(\"count\", ascending=False)\n",
    "print(\"Всего уникальных жанров:\", len(genre_df))\n",
    "print(genre_df.head(20))"
   ]
  },
  {
   "cell_type": "code",
   "execution_count": 5,
   "id": "b2cb18b0-c155-4de2-a321-54d43d411ae2",
   "metadata": {},
   "outputs": [
    {
     "data": {
      "text/html": [
       "<div>\n",
       "<style scoped>\n",
       "    .dataframe tbody tr th:only-of-type {\n",
       "        vertical-align: middle;\n",
       "    }\n",
       "\n",
       "    .dataframe tbody tr th {\n",
       "        vertical-align: top;\n",
       "    }\n",
       "\n",
       "    .dataframe thead th {\n",
       "        text-align: right;\n",
       "    }\n",
       "</style>\n",
       "<table border=\"1\" class=\"dataframe\">\n",
       "  <thead>\n",
       "    <tr style=\"text-align: right;\">\n",
       "      <th></th>\n",
       "      <th>item_id</th>\n",
       "      <th>name</th>\n",
       "      <th>description</th>\n",
       "      <th>media_type</th>\n",
       "      <th>release_year</th>\n",
       "      <th>genres</th>\n",
       "    </tr>\n",
       "  </thead>\n",
       "  <tbody>\n",
       "    <tr>\n",
       "      <th>6011</th>\n",
       "      <td>m_320367</td>\n",
       "      <td>Return</td>\n",
       "      <td>A tale of terror. Cathy Reed has been institut...</td>\n",
       "      <td>movie</td>\n",
       "      <td>2015.0</td>\n",
       "      <td>[Unknown]</td>\n",
       "    </tr>\n",
       "    <tr>\n",
       "      <th>7685</th>\n",
       "      <td>m_916035</td>\n",
       "      <td>Barely Legal Baby Fat</td>\n",
       "      <td>Nobody finds hotter girls just days after the ...</td>\n",
       "      <td>movie</td>\n",
       "      <td>2008.0</td>\n",
       "      <td>[Unknown]</td>\n",
       "    </tr>\n",
       "    <tr>\n",
       "      <th>8576</th>\n",
       "      <td>m_50472</td>\n",
       "      <td>Anplagghed al cinema</td>\n",
       "      <td>A queue at the ATM machine, a displaced family...</td>\n",
       "      <td>movie</td>\n",
       "      <td>2006.0</td>\n",
       "      <td>[Unknown]</td>\n",
       "    </tr>\n",
       "    <tr>\n",
       "      <th>9795</th>\n",
       "      <td>m_464446</td>\n",
       "      <td>Return</td>\n",
       "      <td>A young man returns home for the weekend to di...</td>\n",
       "      <td>movie</td>\n",
       "      <td>2015.0</td>\n",
       "      <td>[Unknown]</td>\n",
       "    </tr>\n",
       "    <tr>\n",
       "      <th>10567</th>\n",
       "      <td>m_292141</td>\n",
       "      <td>The Right of Youth</td>\n",
       "      <td>Directed by August Blom.</td>\n",
       "      <td>movie</td>\n",
       "      <td>1911.0</td>\n",
       "      <td>[Unknown]</td>\n",
       "    </tr>\n",
       "    <tr>\n",
       "      <th>11158</th>\n",
       "      <td>m_1086372</td>\n",
       "      <td>Return</td>\n",
       "      <td>The main character of the film is an outstandi...</td>\n",
       "      <td>movie</td>\n",
       "      <td>1972.0</td>\n",
       "      <td>[Unknown]</td>\n",
       "    </tr>\n",
       "    <tr>\n",
       "      <th>11404</th>\n",
       "      <td>m_596601</td>\n",
       "      <td>Prison High Pressure</td>\n",
       "      <td>Behind the scenes in a prison with a very spec...</td>\n",
       "      <td>movie</td>\n",
       "      <td>2019.0</td>\n",
       "      <td>[Unknown]</td>\n",
       "    </tr>\n",
       "    <tr>\n",
       "      <th>11631</th>\n",
       "      <td>m_834860</td>\n",
       "      <td>RETURN</td>\n",
       "      <td>8mm work directed by Norihiko Morinaga.</td>\n",
       "      <td>movie</td>\n",
       "      <td>1985.0</td>\n",
       "      <td>[Unknown]</td>\n",
       "    </tr>\n",
       "    <tr>\n",
       "      <th>13026</th>\n",
       "      <td>m_83050</td>\n",
       "      <td>Hot Chocolate: A Romp in the Dark</td>\n",
       "      <td>Hot Chocolate is a study in the perfection tha...</td>\n",
       "      <td>movie</td>\n",
       "      <td>2008.0</td>\n",
       "      <td>[Unknown]</td>\n",
       "    </tr>\n",
       "    <tr>\n",
       "      <th>14391</th>\n",
       "      <td>m_348877</td>\n",
       "      <td>Return</td>\n",
       "      <td>Static images of an old country house are comb...</td>\n",
       "      <td>movie</td>\n",
       "      <td>1972.0</td>\n",
       "      <td>[Unknown]</td>\n",
       "    </tr>\n",
       "  </tbody>\n",
       "</table>\n",
       "</div>"
      ],
      "text/plain": [
       "         item_id                               name  \\\n",
       "6011    m_320367                             Return   \n",
       "7685    m_916035              Barely Legal Baby Fat   \n",
       "8576     m_50472               Anplagghed al cinema   \n",
       "9795    m_464446                             Return   \n",
       "10567   m_292141                 The Right of Youth   \n",
       "11158  m_1086372                             Return   \n",
       "11404   m_596601               Prison High Pressure   \n",
       "11631   m_834860                             RETURN   \n",
       "13026    m_83050  Hot Chocolate: A Romp in the Dark   \n",
       "14391   m_348877                             Return   \n",
       "\n",
       "                                             description media_type  \\\n",
       "6011   A tale of terror. Cathy Reed has been institut...      movie   \n",
       "7685   Nobody finds hotter girls just days after the ...      movie   \n",
       "8576   A queue at the ATM machine, a displaced family...      movie   \n",
       "9795   A young man returns home for the weekend to di...      movie   \n",
       "10567                           Directed by August Blom.      movie   \n",
       "11158  The main character of the film is an outstandi...      movie   \n",
       "11404  Behind the scenes in a prison with a very spec...      movie   \n",
       "11631            8mm work directed by Norihiko Morinaga.      movie   \n",
       "13026  Hot Chocolate is a study in the perfection tha...      movie   \n",
       "14391  Static images of an old country house are comb...      movie   \n",
       "\n",
       "       release_year     genres  \n",
       "6011         2015.0  [Unknown]  \n",
       "7685         2008.0  [Unknown]  \n",
       "8576         2006.0  [Unknown]  \n",
       "9795         2015.0  [Unknown]  \n",
       "10567        1911.0  [Unknown]  \n",
       "11158        1972.0  [Unknown]  \n",
       "11404        2019.0  [Unknown]  \n",
       "11631        1985.0  [Unknown]  \n",
       "13026        2008.0  [Unknown]  \n",
       "14391        1972.0  [Unknown]  "
      ]
     },
     "execution_count": 5,
     "metadata": {},
     "output_type": "execute_result"
    }
   ],
   "source": [
    "mask = df_item[\"genres\"].astype(str).str.contains(\"Unknown\", na=False)\n",
    "unknown_df = df_item[mask][[\"item_id\", \"name\", \"description\", \"media_type\", \"release_year\", \"genres\"]]\n",
    "unknown_df.head(10)"
   ]
  },
  {
   "cell_type": "code",
   "execution_count": 6,
   "id": "6e7e09b7-5714-4c8c-a66e-14609cef0350",
   "metadata": {},
   "outputs": [
    {
     "data": {
      "text/html": [
       "<div>\n",
       "<style scoped>\n",
       "    .dataframe tbody tr th:only-of-type {\n",
       "        vertical-align: middle;\n",
       "    }\n",
       "\n",
       "    .dataframe tbody tr th {\n",
       "        vertical-align: top;\n",
       "    }\n",
       "\n",
       "    .dataframe thead th {\n",
       "        text-align: right;\n",
       "    }\n",
       "</style>\n",
       "<table border=\"1\" class=\"dataframe\">\n",
       "  <thead>\n",
       "    <tr style=\"text-align: right;\">\n",
       "      <th></th>\n",
       "      <th>item_id</th>\n",
       "      <th>name</th>\n",
       "      <th>media_type</th>\n",
       "      <th>release_year</th>\n",
       "      <th>genres</th>\n",
       "    </tr>\n",
       "  </thead>\n",
       "  <tbody>\n",
       "    <tr>\n",
       "      <th>6011</th>\n",
       "      <td>m_320367</td>\n",
       "      <td>Return</td>\n",
       "      <td>movie</td>\n",
       "      <td>2015.0</td>\n",
       "      <td>[Unknown]</td>\n",
       "    </tr>\n",
       "    <tr>\n",
       "      <th>7685</th>\n",
       "      <td>m_916035</td>\n",
       "      <td>Barely Legal Baby Fat</td>\n",
       "      <td>movie</td>\n",
       "      <td>2008.0</td>\n",
       "      <td>[Unknown]</td>\n",
       "    </tr>\n",
       "    <tr>\n",
       "      <th>8576</th>\n",
       "      <td>m_50472</td>\n",
       "      <td>Anplagghed al cinema</td>\n",
       "      <td>movie</td>\n",
       "      <td>2006.0</td>\n",
       "      <td>[Unknown]</td>\n",
       "    </tr>\n",
       "    <tr>\n",
       "      <th>9795</th>\n",
       "      <td>m_464446</td>\n",
       "      <td>Return</td>\n",
       "      <td>movie</td>\n",
       "      <td>2015.0</td>\n",
       "      <td>[Unknown]</td>\n",
       "    </tr>\n",
       "    <tr>\n",
       "      <th>10567</th>\n",
       "      <td>m_292141</td>\n",
       "      <td>The Right of Youth</td>\n",
       "      <td>movie</td>\n",
       "      <td>1911.0</td>\n",
       "      <td>[Unknown]</td>\n",
       "    </tr>\n",
       "    <tr>\n",
       "      <th>11158</th>\n",
       "      <td>m_1086372</td>\n",
       "      <td>Return</td>\n",
       "      <td>movie</td>\n",
       "      <td>1972.0</td>\n",
       "      <td>[Unknown]</td>\n",
       "    </tr>\n",
       "    <tr>\n",
       "      <th>11404</th>\n",
       "      <td>m_596601</td>\n",
       "      <td>Prison High Pressure</td>\n",
       "      <td>movie</td>\n",
       "      <td>2019.0</td>\n",
       "      <td>[Unknown]</td>\n",
       "    </tr>\n",
       "    <tr>\n",
       "      <th>11631</th>\n",
       "      <td>m_834860</td>\n",
       "      <td>RETURN</td>\n",
       "      <td>movie</td>\n",
       "      <td>1985.0</td>\n",
       "      <td>[Unknown]</td>\n",
       "    </tr>\n",
       "    <tr>\n",
       "      <th>13026</th>\n",
       "      <td>m_83050</td>\n",
       "      <td>Hot Chocolate: A Romp in the Dark</td>\n",
       "      <td>movie</td>\n",
       "      <td>2008.0</td>\n",
       "      <td>[Unknown]</td>\n",
       "    </tr>\n",
       "    <tr>\n",
       "      <th>14391</th>\n",
       "      <td>m_348877</td>\n",
       "      <td>Return</td>\n",
       "      <td>movie</td>\n",
       "      <td>1972.0</td>\n",
       "      <td>[Unknown]</td>\n",
       "    </tr>\n",
       "  </tbody>\n",
       "</table>\n",
       "</div>"
      ],
      "text/plain": [
       "         item_id                               name media_type  release_year  \\\n",
       "6011    m_320367                             Return      movie        2015.0   \n",
       "7685    m_916035              Barely Legal Baby Fat      movie        2008.0   \n",
       "8576     m_50472               Anplagghed al cinema      movie        2006.0   \n",
       "9795    m_464446                             Return      movie        2015.0   \n",
       "10567   m_292141                 The Right of Youth      movie        1911.0   \n",
       "11158  m_1086372                             Return      movie        1972.0   \n",
       "11404   m_596601               Prison High Pressure      movie        2019.0   \n",
       "11631   m_834860                             RETURN      movie        1985.0   \n",
       "13026    m_83050  Hot Chocolate: A Romp in the Dark      movie        2008.0   \n",
       "14391   m_348877                             Return      movie        1972.0   \n",
       "\n",
       "          genres  \n",
       "6011   [Unknown]  \n",
       "7685   [Unknown]  \n",
       "8576   [Unknown]  \n",
       "9795   [Unknown]  \n",
       "10567  [Unknown]  \n",
       "11158  [Unknown]  \n",
       "11404  [Unknown]  \n",
       "11631  [Unknown]  \n",
       "13026  [Unknown]  \n",
       "14391  [Unknown]  "
      ]
     },
     "execution_count": 6,
     "metadata": {},
     "output_type": "execute_result"
    }
   ],
   "source": [
    "no_genre_mask = (\n",
    "    df_item[\"genres\"].isna() |\n",
    "    df_item[\"genres\"].astype(str).str.strip().eq(\"\") |\n",
    "    df_item[\"genres\"].astype(str).str.contains(\"Unknown\", na=False))\n",
    "unknown_df = df_item[no_genre_mask][[\"item_id\", \"name\", \"media_type\", \"release_year\", \"genres\"]]\n",
    "unknown_df.head(10)"
   ]
  },
  {
   "cell_type": "code",
   "execution_count": 7,
   "id": "c78453f4-b825-49b2-9818-8125c7ec6496",
   "metadata": {},
   "outputs": [
    {
     "data": {
      "text/plain": [
       "media_type\n",
       "movie    0.676827\n",
       "tv       0.323173\n",
       "Name: proportion, dtype: float64"
      ]
     },
     "execution_count": 7,
     "metadata": {},
     "output_type": "execute_result"
    }
   ],
   "source": [
    "media_dist = df_item[\"media_type\"].value_counts(normalize=True)\n",
    "media_dist"
   ]
  },
  {
   "cell_type": "code",
   "execution_count": 8,
   "id": "d1ee610e-2025-4f69-976a-b99eca0f9484",
   "metadata": {},
   "outputs": [
    {
     "name": "stdout",
     "output_type": "stream",
     "text": [
      "release_year\n",
      "2010-19    0.434194\n",
      "2000-09    0.219885\n",
      "2020-25    0.165879\n",
      "1990-99    0.104007\n",
      "1980-89    0.076036\n",
      "Name: proportion, dtype: float64\n"
     ]
    }
   ],
   "source": [
    "year_bins = pd.cut(df_item[\"release_year\"].dropna(),\n",
    "                   bins=[1980,1990,2000,2010,2020,2025],\n",
    "                   labels=[\"1980-89\",\"1990-99\",\"2000-09\",\"2010-19\",\"2020-25\"])\n",
    "print(year_bins.value_counts(normalize=True))"
   ]
  },
  {
   "cell_type": "code",
   "execution_count": 9,
   "id": "5dbbf940-b04c-4699-a10f-e7e08c597476",
   "metadata": {},
   "outputs": [
    {
     "name": "stdout",
     "output_type": "stream",
     "text": [
      "Размер датасета после удаления дубликатов по item_id: (509628, 9)\n"
     ]
    }
   ],
   "source": [
    "df_unique = df_item.drop_duplicates(subset=['item_id'], keep='first').copy()\n",
    "print(f\"Размер датасета после удаления дубликатов по item_id: {df_unique.shape}\")"
   ]
  },
  {
   "cell_type": "code",
   "execution_count": 10,
   "id": "2a8a0c61-13d7-41fa-ac23-53390372af66",
   "metadata": {},
   "outputs": [
    {
     "name": "stdout",
     "output_type": "stream",
     "text": [
      "Размер датасета после удаления строк с пропущенным 'release_year': (478727, 9)\n",
      "Удалено строк с пропущенным 'release_year': 30901\n"
     ]
    }
   ],
   "source": [
    "initial_shape = df_unique.shape\n",
    "df_unique_clean_years = df_unique.dropna(subset=['release_year']).copy()\n",
    "df_unique_clean_years.reset_index(drop=True, inplace=True)\n",
    "final_shape = df_unique_clean_years.shape\n",
    "\n",
    "print(f\"Размер датасета после удаления строк с пропущенным 'release_year': {final_shape}\")\n",
    "print(f\"Удалено строк с пропущенным 'release_year': {initial_shape[0] - final_shape[0]}\")"
   ]
  },
  {
   "cell_type": "code",
   "execution_count": 11,
   "id": "6c0ec29b-40ef-43ba-b130-70651c039996",
   "metadata": {},
   "outputs": [
    {
     "name": "stdout",
     "output_type": "stream",
     "text": [
      "Проверка: Пропущенные значения в 'release_year' успешно удалены.\n"
     ]
    }
   ],
   "source": [
    "remaining_missing = df_unique_clean_years.isnull().sum()\n",
    "if remaining_missing['release_year'] == 0:\n",
    "    print(\"Проверка: Пропущенные значения в 'release_year' успешно удалены.\")\n",
    "else:\n",
    "    print(f\"ВНИМАНИЕ: Остались пропущенные 'release_year': {remaining_missing['release_year']}\")"
   ]
  },
  {
   "cell_type": "code",
   "execution_count": 12,
   "id": "a5c7056b-ff56-422c-af8f-6d89ec3c3900",
   "metadata": {},
   "outputs": [],
   "source": [
    "unknown_mask = (\n",
    "    df_unique_clean_years[\"genres\"].isna() |\n",
    "    df_unique_clean_years[\"genres\"].astype(str).str.strip().eq(\"\") |\n",
    "    df_unique_clean_years[\"genres\"].astype(str).str.contains(\"Unknown\", case=False, na=False)\n",
    ")"
   ]
  },
  {
   "cell_type": "code",
   "execution_count": 13,
   "id": "af500a40-7ef5-43e6-b79b-4651e1f847c1",
   "metadata": {},
   "outputs": [
    {
     "name": "stdout",
     "output_type": "stream",
     "text": [
      "Количество записей с известными жанрами: 380391\n",
      "Количество записей с неизвестными жанрами: 98336\n"
     ]
    }
   ],
   "source": [
    "df_clean = df_unique_clean_years[~unknown_mask].copy()\n",
    "df_unknown = df_unique_clean_years[unknown_mask].copy()\n",
    "print(f\"Количество записей с известными жанрами: {len(df_clean)}\")\n",
    "print(f\"Количество записей с неизвестными жанрами: {len(df_unknown)}\")"
   ]
  },
  {
   "cell_type": "code",
   "execution_count": 14,
   "id": "1206db64-248f-4d13-b104-71982a4477d2",
   "metadata": {},
   "outputs": [
    {
     "name": "stdout",
     "output_type": "stream",
     "text": [
      "Будет выбрано: 19200 записей с известными жанрами и 800 с неизвестными.\n"
     ]
    }
   ],
   "source": [
    "TARGET_TOTAL = 20_000\n",
    "UNKNOWN_PERCENTAGE = 0.04 # 4%\n",
    "N_UNKNOWN = int(TARGET_TOTAL * UNKNOWN_PERCENTAGE)\n",
    "N_CLEAN = TARGET_TOTAL - N_UNKNOWN\n",
    "print(f\"Будет выбрано: {N_CLEAN} записей с известными жанрами и {N_UNKNOWN} с неизвестными.\")"
   ]
  },
  {
   "cell_type": "code",
   "execution_count": 15,
   "id": "bf85b07d-5702-4422-99b1-d15e5d0e9e13",
   "metadata": {},
   "outputs": [],
   "source": [
    "bins = [1980, 1990, 2000, 2010, 2020, 2026]\n",
    "labels = [\"1980-89\", \"1990-99\", \"2000-09\", \"2010-19\", \"2020-25\"]\n",
    "df_clean[\"year_bin\"] = pd.cut(df_clean[\"release_year\"], bins=bins, labels=labels, right=False)"
   ]
  },
  {
   "cell_type": "code",
   "execution_count": 16,
   "id": "f12d5697-1096-4214-8616-e0b4846cbf04",
   "metadata": {},
   "outputs": [],
   "source": [
    "strata = df_clean.groupby([\"media_type\", \"year_bin\"], observed=False, dropna=False)"
   ]
  },
  {
   "cell_type": "code",
   "execution_count": 17,
   "id": "5596e96e-8561-41e1-881d-8c1fb3b38413",
   "metadata": {},
   "outputs": [
    {
     "name": "stdout",
     "output_type": "stream",
     "text": [
      "\n",
      "Веса страт:\n",
      "media_type  year_bin\n",
      "movie       1980-89     0.053724\n",
      "            1990-99     0.064849\n",
      "            2000-09     0.124107\n",
      "            2010-19     0.244719\n",
      "            2020-25     0.109043\n",
      "            nan         0.165319\n",
      "tv          1980-89     0.010071\n",
      "            1990-99     0.017663\n",
      "            2000-09     0.038926\n",
      "            2010-19     0.091603\n",
      "            2020-25     0.067512\n",
      "            nan         0.012463\n",
      "dtype: float64\n"
     ]
    }
   ],
   "source": [
    "strata_weights = strata.size() / len(df_clean)\n",
    "print(\"\\nВеса страт:\")\n",
    "print(strata_weights)"
   ]
  },
  {
   "cell_type": "code",
   "execution_count": 18,
   "id": "9b063ab1-638e-47d5-b53e-4e0a556aaf7d",
   "metadata": {},
   "outputs": [],
   "source": [
    "strata_sample_counts = (strata_weights * N_CLEAN).round().astype(int)"
   ]
  },
  {
   "cell_type": "code",
   "execution_count": 19,
   "id": "362f99b0-b66c-4bc2-8ee1-3fd3dd8a705e",
   "metadata": {},
   "outputs": [
    {
     "name": "stdout",
     "output_type": "stream",
     "text": [
      "\n",
      "Корректировка количества выборки: добавлено 1 к страте ('movie', '2010-19')\n",
      "\n",
      "Целевое количество выборки по стратам:\n",
      "media_type  year_bin\n",
      "movie       1980-89     1031\n",
      "            1990-99     1245\n",
      "            2000-09     2383\n",
      "            2010-19     4700\n",
      "            2020-25     2094\n",
      "            nan         3174\n",
      "tv          1980-89      193\n",
      "            1990-99      339\n",
      "            2000-09      747\n",
      "            2010-19     1759\n",
      "            2020-25     1296\n",
      "            nan          239\n",
      "dtype: int64\n",
      "Сумма: 19200\n"
     ]
    }
   ],
   "source": [
    "diff = N_CLEAN - strata_sample_counts.sum()\n",
    "if diff != 0:\n",
    "    # Найти страту с наибольшим количеством записей и скорректировать её\n",
    "    # (можно использовать более сложную логику, но это простой способ)\n",
    "    largest_stratum = strata_sample_counts.idxmax()\n",
    "    strata_sample_counts[largest_stratum] += diff\n",
    "    print(f\"\\nКорректировка количества выборки: добавлено {diff} к страте {largest_stratum}\")\n",
    "\n",
    "print(f\"\\nЦелевое количество выборки по стратам:\")\n",
    "print(strata_sample_counts)\n",
    "print(f\"Сумма: {strata_sample_counts.sum()}\")"
   ]
  },
  {
   "cell_type": "code",
   "execution_count": 20,
   "id": "b6f9145a-a25f-4b96-91d7-18d1fa2e0034",
   "metadata": {},
   "outputs": [],
   "source": [
    "def safe_sample(group, n):\n",
    "    \"\"\"Безопасная выборка: если в группе меньше элементов, чем n, выбираем все.\"\"\"\n",
    "    n = min(len(group), n)\n",
    "    if n <= 0:\n",
    "         return group.iloc[0:0] # Возвращаем пустой DataFrame с теми же колонками\n",
    "    return group.sample(n=n, random_state=42)"
   ]
  },
  {
   "cell_type": "code",
   "execution_count": 21,
   "id": "91b23734-35f5-4301-bae5-d80cc46d33a4",
   "metadata": {},
   "outputs": [],
   "source": [
    "sampled_clean_list = []\n",
    "for name, group in strata:\n",
    "    count = strata_sample_counts.get(name, 0) # Получаем целевое количество, 0 если ключ отсутствует\n",
    "    if count > 0 and not group.empty: # Добавлена проверка на пустую группу\n",
    "        sampled_group = safe_sample(group, count)\n",
    "        sampled_clean_list.append(sampled_group)\n",
    "    elif count > 0 and group.empty:\n",
    "        print(f\"Предупреждение: Для страты {name} целевое количество выборки {count}, но группа пуста.\")"
   ]
  },
  {
   "cell_type": "code",
   "execution_count": 22,
   "id": "67b6d533-50e7-42ea-88ad-a81570a18c26",
   "metadata": {},
   "outputs": [
    {
     "name": "stdout",
     "output_type": "stream",
     "text": [
      "\n",
      "Реально выбрано из 'чистых' данных: 19200\n"
     ]
    }
   ],
   "source": [
    "if sampled_clean_list:\n",
    "    sampled_clean_final = pd.concat(sampled_clean_list, ignore_index=True)\n",
    "else:\n",
    "    sampled_clean_final = pd.DataFrame() # На случай, если все страты дали 0\n",
    "\n",
    "print(f\"\\nРеально выбрано из 'чистых' данных: {len(sampled_clean_final)}\")"
   ]
  },
  {
   "cell_type": "code",
   "execution_count": 23,
   "id": "38f403ad-422d-4de9-974f-f37259d0c956",
   "metadata": {},
   "outputs": [
    {
     "name": "stdout",
     "output_type": "stream",
     "text": [
      "Выбрано из 'unknown' данных: 800\n"
     ]
    }
   ],
   "source": [
    "if len(df_unknown) >= N_UNKNOWN:\n",
    "    sampled_unknown_final = df_unknown.sample(n=N_UNKNOWN, random_state=42)\n",
    "    print(f\"Выбрано из 'unknown' данных: {len(sampled_unknown_final)}\")\n",
    "else:\n",
    "    print(f\"Предупреждение: Недостаточно записей с 'Unknown' жанрами. Доступно: {len(df_unknown)}, требуется: {N_UNKNOWN}\")\n",
    "    print(\"Будут выбраны все доступные записи с 'Unknown' жанрами.\")\n",
    "    sampled_unknown_final = df_unknown.copy()\n",
    "    # Корректируем итоговое количество, если недобор по Unknown\n",
    "    actual_unknown_selected = len(sampled_unknown_final)\n",
    "    actual_total = len(sampled_clean_final) + actual_unknown_selected\n",
    "    print(f\"Фактический размер выборки будет: {actual_total}\")"
   ]
  },
  {
   "cell_type": "code",
   "execution_count": 24,
   "id": "9afdba18-e8e7-4fcd-9ef0-17f1ba227d7d",
   "metadata": {},
   "outputs": [],
   "source": [
    "sampled_final = pd.concat([sampled_clean_final, sampled_unknown_final], ignore_index=True)"
   ]
  },
  {
   "cell_type": "code",
   "execution_count": 25,
   "id": "331f343e-bf58-4ac9-80ba-d9c15fd74ed6",
   "metadata": {},
   "outputs": [],
   "source": [
    "sampled_final = sampled_final.sample(frac=1, random_state=42).reset_index(drop=True)"
   ]
  },
  {
   "cell_type": "code",
   "execution_count": 26,
   "id": "bbf80b37-2543-47c6-b67c-68a8717f32e7",
   "metadata": {},
   "outputs": [],
   "source": [
    "required_columns = ['item_id', 'name', 'genres', 'description', 'release_year', 'decade', 'media_type', 'rating_scaled', 'is_generated']\n",
    "missing_cols = set(required_columns) - set(sampled_final.columns)\n",
    "\n",
    "if missing_cols:\n",
    "    print(f\"Warning: Missing columns in final dataset: {missing_cols}\")\n",
    "else:\n",
    "    sampled_final = sampled_final[required_columns]"
   ]
  },
  {
   "cell_type": "code",
   "execution_count": 27,
   "id": "f9c54f57-883e-4b96-8ae8-720d10662c8c",
   "metadata": {},
   "outputs": [
    {
     "name": "stdout",
     "output_type": "stream",
     "text": [
      "\n",
      "Финальный размер выборки: 20000\n",
      "\n",
      "Распределение media_type в выборке:\n",
      "media_type\n",
      "movie    0.75305\n",
      "tv       0.24695\n",
      "Name: proportion, dtype: float64\n"
     ]
    }
   ],
   "source": [
    "print(f\"\\nФинальный размер выборки: {len(sampled_final)}\")\n",
    "print(\"\\nРаспределение media_type в выборке:\")\n",
    "print(sampled_final['media_type'].value_counts(normalize=True))"
   ]
  },
  {
   "cell_type": "code",
   "execution_count": 28,
   "id": "21db257d-f477-44a9-9572-0c1f29b92b7d",
   "metadata": {},
   "outputs": [
    {
     "name": "stdout",
     "output_type": "stream",
     "text": [
      "\n",
      "Количество записей с 'Unknown' жанрами в финальной выборке: 800 (4.00%)\n"
     ]
    }
   ],
   "source": [
    "selected_unknown_item_ids = set(sampled_unknown_final['item_id'])\n",
    "final_unknown_mask = sampled_final['item_id'].isin(selected_unknown_item_ids)\n",
    "final_unknown_count = final_unknown_mask.sum() # sum() считает True как 1, False как 0\n",
    "final_unknown_percentage = final_unknown_count / len(sampled_final) * 100\n",
    "print(f\"\\nКоличество записей с 'Unknown' жанрами в финальной выборке: {final_unknown_count} ({final_unknown_percentage:.2f}%)\")"
   ]
  },
  {
   "cell_type": "code",
   "execution_count": 29,
   "id": "39c0ca99-184f-495a-a856-038194081077",
   "metadata": {},
   "outputs": [],
   "source": [
    "if 'year_bin' in sampled_final.columns:\n",
    "     print(\"\\nРаспределение годовых бинов в 'чистой' части выборки:\")\n",
    "     # Для чистой части, так как у unknown нет year_bin\n",
    "     clean_part = sampled_final[sampled_final.index.isin(sampled_clean_final.index)]\n",
    "     print(clean_part['year_bin'].value_counts(normalize=True, sort=False))"
   ]
  },
  {
   "cell_type": "code",
   "execution_count": 30,
   "id": "8c240889-3612-4be4-b3c3-8c5f709ebe1e",
   "metadata": {},
   "outputs": [
    {
     "name": "stdout",
     "output_type": "stream",
     "text": [
      "\n",
      "Финальный датасет сохранен в: llama3_20k_balanced.csv\n",
      "Колонки в сохраненном файле: ['item_id', 'name', 'description', 'genres', 'is_generated', 'media_type', 'release_year', 'decade', 'rating_scaled']\n"
     ]
    }
   ],
   "source": [
    "required_columns = ['item_id', 'name', 'description', 'genres', 'is_generated', 'media_type', 'release_year', 'decade', 'rating_scaled']\n",
    "missing_cols = set(required_columns) - set(sampled_final.columns)\n",
    "if missing_cols:\n",
    "    print(f\"Внимание: Следующие колонки отсутствуют в финальном датасете: {missing_cols}\")\n",
    "else:\n",
    "    # Выбираем только нужные колонки\n",
    "    final_dataset = sampled_final[required_columns].copy()\n",
    "    output_path = \"llama3_20k_balanced.csv\"\n",
    "    final_dataset.to_csv(output_path, index=False)\n",
    "    print(f\"\\nФинальный датасет сохранен в: {output_path}\")\n",
    "    print(f\"Колонки в сохраненном файле: {list(final_dataset.columns)}\")"
   ]
  },
  {
   "cell_type": "code",
   "execution_count": 31,
   "id": "5eb138b0-782e-4bba-a5f3-15369ddc6cf3",
   "metadata": {},
   "outputs": [
    {
     "data": {
      "text/html": [
       "<div>\n",
       "<style scoped>\n",
       "    .dataframe tbody tr th:only-of-type {\n",
       "        vertical-align: middle;\n",
       "    }\n",
       "\n",
       "    .dataframe tbody tr th {\n",
       "        vertical-align: top;\n",
       "    }\n",
       "\n",
       "    .dataframe thead th {\n",
       "        text-align: right;\n",
       "    }\n",
       "</style>\n",
       "<table border=\"1\" class=\"dataframe\">\n",
       "  <thead>\n",
       "    <tr style=\"text-align: right;\">\n",
       "      <th></th>\n",
       "      <th>item_id</th>\n",
       "      <th>name</th>\n",
       "      <th>genres</th>\n",
       "      <th>description</th>\n",
       "      <th>release_year</th>\n",
       "      <th>decade</th>\n",
       "      <th>media_type</th>\n",
       "      <th>rating_scaled</th>\n",
       "      <th>is_generated</th>\n",
       "    </tr>\n",
       "  </thead>\n",
       "  <tbody>\n",
       "    <tr>\n",
       "      <th>0</th>\n",
       "      <td>m_1373727</td>\n",
       "      <td>Caligula: The Ultimate Cut</td>\n",
       "      <td>[History, Drama]</td>\n",
       "      <td>Follows Caligula as he kills his devious adopt...</td>\n",
       "      <td>2023.0</td>\n",
       "      <td>2020.0</td>\n",
       "      <td>movie</td>\n",
       "      <td>4.32500</td>\n",
       "      <td>0</td>\n",
       "    </tr>\n",
       "    <tr>\n",
       "      <th>1</th>\n",
       "      <td>m_77624</td>\n",
       "      <td>Mesmer</td>\n",
       "      <td>[Drama]</td>\n",
       "      <td>A biography of the eighteenth century Viennese...</td>\n",
       "      <td>1994.0</td>\n",
       "      <td>1990.0</td>\n",
       "      <td>movie</td>\n",
       "      <td>3.24500</td>\n",
       "      <td>0</td>\n",
       "    </tr>\n",
       "    <tr>\n",
       "      <th>2</th>\n",
       "      <td>m_570224</td>\n",
       "      <td>Oblomov</td>\n",
       "      <td>[Drama]</td>\n",
       "      <td>Unknown</td>\n",
       "      <td>2017.0</td>\n",
       "      <td>2010.0</td>\n",
       "      <td>movie</td>\n",
       "      <td>3.20000</td>\n",
       "      <td>0</td>\n",
       "    </tr>\n",
       "    <tr>\n",
       "      <th>3</th>\n",
       "      <td>m_125149</td>\n",
       "      <td>Hell Mountain</td>\n",
       "      <td>[Thriller, Science Fiction, Action]</td>\n",
       "      <td>In an apocalyptical future, the world is compl...</td>\n",
       "      <td>1998.0</td>\n",
       "      <td>1990.0</td>\n",
       "      <td>movie</td>\n",
       "      <td>1.99985</td>\n",
       "      <td>0</td>\n",
       "    </tr>\n",
       "    <tr>\n",
       "      <th>4</th>\n",
       "      <td>m_649877</td>\n",
       "      <td>Adiós Buenos Aires</td>\n",
       "      <td>[Music]</td>\n",
       "      <td>A freakish coincidence brings together a songw...</td>\n",
       "      <td>1938.0</td>\n",
       "      <td>1930.0</td>\n",
       "      <td>movie</td>\n",
       "      <td>3.51500</td>\n",
       "      <td>0</td>\n",
       "    </tr>\n",
       "  </tbody>\n",
       "</table>\n",
       "</div>"
      ],
      "text/plain": [
       "     item_id                        name                               genres  \\\n",
       "0  m_1373727  Caligula: The Ultimate Cut                     [History, Drama]   \n",
       "1    m_77624                      Mesmer                              [Drama]   \n",
       "2   m_570224                     Oblomov                              [Drama]   \n",
       "3   m_125149               Hell Mountain  [Thriller, Science Fiction, Action]   \n",
       "4   m_649877          Adiós Buenos Aires                              [Music]   \n",
       "\n",
       "                                         description  release_year  decade  \\\n",
       "0  Follows Caligula as he kills his devious adopt...        2023.0  2020.0   \n",
       "1  A biography of the eighteenth century Viennese...        1994.0  1990.0   \n",
       "2                                            Unknown        2017.0  2010.0   \n",
       "3  In an apocalyptical future, the world is compl...        1998.0  1990.0   \n",
       "4  A freakish coincidence brings together a songw...        1938.0  1930.0   \n",
       "\n",
       "  media_type  rating_scaled  is_generated  \n",
       "0      movie        4.32500             0  \n",
       "1      movie        3.24500             0  \n",
       "2      movie        3.20000             0  \n",
       "3      movie        1.99985             0  \n",
       "4      movie        3.51500             0  "
      ]
     },
     "execution_count": 31,
     "metadata": {},
     "output_type": "execute_result"
    }
   ],
   "source": [
    "sampled_final.head()"
   ]
  },
  {
   "cell_type": "code",
   "execution_count": 32,
   "id": "9565d1f1-489b-4fd2-9e22-ecd93d52f9ad",
   "metadata": {},
   "outputs": [
    {
     "data": {
      "text/plain": [
       "(20000, 9)"
      ]
     },
     "execution_count": 32,
     "metadata": {},
     "output_type": "execute_result"
    }
   ],
   "source": [
    "sampled_final.shape"
   ]
  },
  {
   "cell_type": "code",
   "execution_count": null,
   "id": "b92ad727-0ec8-4492-9355-1a9c08051e5e",
   "metadata": {},
   "outputs": [],
   "source": []
  }
 ],
 "metadata": {
  "kernelspec": {
   "display_name": "Python 3 (ipykernel)",
   "language": "python",
   "name": "python3"
  },
  "language_info": {
   "codemirror_mode": {
    "name": "ipython",
    "version": 3
   },
   "file_extension": ".py",
   "mimetype": "text/x-python",
   "name": "python",
   "nbconvert_exporter": "python",
   "pygments_lexer": "ipython3",
   "version": "3.13.1"
  }
 },
 "nbformat": 4,
 "nbformat_minor": 5
}
