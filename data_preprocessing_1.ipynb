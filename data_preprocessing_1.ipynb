{
 "cells": [
  {
   "cell_type": "code",
   "execution_count": 1,
   "id": "e7af38f2-eeaf-4ec4-b353-4af3e902e23d",
   "metadata": {},
   "outputs": [],
   "source": [
    "import pandas as pd\n",
    "import numpy as np\n",
    "import matplotlib.pyplot as plt"
   ]
  },
  {
   "cell_type": "code",
   "execution_count": 2,
   "id": "66e9db3e-f613-48ea-9fec-9f43b4829ed5",
   "metadata": {},
   "outputs": [
    {
     "data": {
      "text/html": [
       "<div>\n",
       "<style scoped>\n",
       "    .dataframe tbody tr th:only-of-type {\n",
       "        vertical-align: middle;\n",
       "    }\n",
       "\n",
       "    .dataframe tbody tr th {\n",
       "        vertical-align: top;\n",
       "    }\n",
       "\n",
       "    .dataframe thead th {\n",
       "        text-align: right;\n",
       "    }\n",
       "</style>\n",
       "<table border=\"1\" class=\"dataframe\">\n",
       "  <thead>\n",
       "    <tr style=\"text-align: right;\">\n",
       "      <th></th>\n",
       "      <th>id</th>\n",
       "      <th>title</th>\n",
       "      <th>vote_average</th>\n",
       "      <th>vote_count</th>\n",
       "      <th>status</th>\n",
       "      <th>release_date</th>\n",
       "      <th>revenue</th>\n",
       "      <th>runtime</th>\n",
       "      <th>adult</th>\n",
       "      <th>backdrop_path</th>\n",
       "      <th>...</th>\n",
       "      <th>original_title</th>\n",
       "      <th>overview</th>\n",
       "      <th>popularity</th>\n",
       "      <th>poster_path</th>\n",
       "      <th>tagline</th>\n",
       "      <th>genres</th>\n",
       "      <th>production_companies</th>\n",
       "      <th>production_countries</th>\n",
       "      <th>spoken_languages</th>\n",
       "      <th>keywords</th>\n",
       "    </tr>\n",
       "  </thead>\n",
       "  <tbody>\n",
       "    <tr>\n",
       "      <th>0</th>\n",
       "      <td>27205</td>\n",
       "      <td>Inception</td>\n",
       "      <td>8.364</td>\n",
       "      <td>34495</td>\n",
       "      <td>Released</td>\n",
       "      <td>2010-07-15</td>\n",
       "      <td>825532764</td>\n",
       "      <td>148</td>\n",
       "      <td>False</td>\n",
       "      <td>/8ZTVqvKDQ8emSGUEMjsS4yHAwrp.jpg</td>\n",
       "      <td>...</td>\n",
       "      <td>Inception</td>\n",
       "      <td>Cobb, a skilled thief who commits corporate es...</td>\n",
       "      <td>83.952</td>\n",
       "      <td>/oYuLEt3zVCKq57qu2F8dT7NIa6f.jpg</td>\n",
       "      <td>Your mind is the scene of the crime.</td>\n",
       "      <td>Action, Science Fiction, Adventure</td>\n",
       "      <td>Legendary Pictures, Syncopy, Warner Bros. Pict...</td>\n",
       "      <td>United Kingdom, United States of America</td>\n",
       "      <td>English, French, Japanese, Swahili</td>\n",
       "      <td>rescue, mission, dream, airplane, paris, franc...</td>\n",
       "    </tr>\n",
       "    <tr>\n",
       "      <th>1</th>\n",
       "      <td>157336</td>\n",
       "      <td>Interstellar</td>\n",
       "      <td>8.417</td>\n",
       "      <td>32571</td>\n",
       "      <td>Released</td>\n",
       "      <td>2014-11-05</td>\n",
       "      <td>701729206</td>\n",
       "      <td>169</td>\n",
       "      <td>False</td>\n",
       "      <td>/pbrkL804c8yAv3zBZR4QPEafpAR.jpg</td>\n",
       "      <td>...</td>\n",
       "      <td>Interstellar</td>\n",
       "      <td>The adventures of a group of explorers who mak...</td>\n",
       "      <td>140.241</td>\n",
       "      <td>/gEU2QniE6E77NI6lCU6MxlNBvIx.jpg</td>\n",
       "      <td>Mankind was born on Earth. It was never meant ...</td>\n",
       "      <td>Adventure, Drama, Science Fiction</td>\n",
       "      <td>Legendary Pictures, Syncopy, Lynda Obst Produc...</td>\n",
       "      <td>United Kingdom, United States of America</td>\n",
       "      <td>English</td>\n",
       "      <td>rescue, future, spacecraft, race against time,...</td>\n",
       "    </tr>\n",
       "    <tr>\n",
       "      <th>2</th>\n",
       "      <td>155</td>\n",
       "      <td>The Dark Knight</td>\n",
       "      <td>8.512</td>\n",
       "      <td>30619</td>\n",
       "      <td>Released</td>\n",
       "      <td>2008-07-16</td>\n",
       "      <td>1004558444</td>\n",
       "      <td>152</td>\n",
       "      <td>False</td>\n",
       "      <td>/nMKdUUepR0i5zn0y1T4CsSB5chy.jpg</td>\n",
       "      <td>...</td>\n",
       "      <td>The Dark Knight</td>\n",
       "      <td>Batman raises the stakes in his war on crime. ...</td>\n",
       "      <td>130.643</td>\n",
       "      <td>/qJ2tW6WMUDux911r6m7haRef0WH.jpg</td>\n",
       "      <td>Welcome to a world without rules.</td>\n",
       "      <td>Drama, Action, Crime, Thriller</td>\n",
       "      <td>DC Comics, Legendary Pictures, Syncopy, Isobel...</td>\n",
       "      <td>United Kingdom, United States of America</td>\n",
       "      <td>English, Mandarin</td>\n",
       "      <td>joker, sadism, chaos, secret identity, crime f...</td>\n",
       "    </tr>\n",
       "    <tr>\n",
       "      <th>3</th>\n",
       "      <td>19995</td>\n",
       "      <td>Avatar</td>\n",
       "      <td>7.573</td>\n",
       "      <td>29815</td>\n",
       "      <td>Released</td>\n",
       "      <td>2009-12-15</td>\n",
       "      <td>2923706026</td>\n",
       "      <td>162</td>\n",
       "      <td>False</td>\n",
       "      <td>/vL5LR6WdxWPjLPFRLe133jXWsh5.jpg</td>\n",
       "      <td>...</td>\n",
       "      <td>Avatar</td>\n",
       "      <td>In the 22nd century, a paraplegic Marine is di...</td>\n",
       "      <td>79.932</td>\n",
       "      <td>/kyeqWdyUXW608qlYkRqosgbbJyK.jpg</td>\n",
       "      <td>Enter the world of Pandora.</td>\n",
       "      <td>Action, Adventure, Fantasy, Science Fiction</td>\n",
       "      <td>Dune Entertainment, Lightstorm Entertainment, ...</td>\n",
       "      <td>United States of America, United Kingdom</td>\n",
       "      <td>English, Spanish</td>\n",
       "      <td>future, society, culture clash, space travel, ...</td>\n",
       "    </tr>\n",
       "    <tr>\n",
       "      <th>4</th>\n",
       "      <td>24428</td>\n",
       "      <td>The Avengers</td>\n",
       "      <td>7.710</td>\n",
       "      <td>29166</td>\n",
       "      <td>Released</td>\n",
       "      <td>2012-04-25</td>\n",
       "      <td>1518815515</td>\n",
       "      <td>143</td>\n",
       "      <td>False</td>\n",
       "      <td>/9BBTo63ANSmhC4e6r62OJFuK2GL.jpg</td>\n",
       "      <td>...</td>\n",
       "      <td>The Avengers</td>\n",
       "      <td>When an unexpected enemy emerges and threatens...</td>\n",
       "      <td>98.082</td>\n",
       "      <td>/RYMX2wcKCBAr24UyPD7xwmjaTn.jpg</td>\n",
       "      <td>Some assembly required.</td>\n",
       "      <td>Science Fiction, Action, Adventure</td>\n",
       "      <td>Marvel Studios</td>\n",
       "      <td>United States of America</td>\n",
       "      <td>English, Hindi, Russian</td>\n",
       "      <td>new york city, superhero, shield, based on com...</td>\n",
       "    </tr>\n",
       "  </tbody>\n",
       "</table>\n",
       "<p>5 rows × 24 columns</p>\n",
       "</div>"
      ],
      "text/plain": [
       "       id            title  vote_average  vote_count    status release_date  \\\n",
       "0   27205        Inception         8.364       34495  Released   2010-07-15   \n",
       "1  157336     Interstellar         8.417       32571  Released   2014-11-05   \n",
       "2     155  The Dark Knight         8.512       30619  Released   2008-07-16   \n",
       "3   19995           Avatar         7.573       29815  Released   2009-12-15   \n",
       "4   24428     The Avengers         7.710       29166  Released   2012-04-25   \n",
       "\n",
       "      revenue  runtime  adult                     backdrop_path  ...  \\\n",
       "0   825532764      148  False  /8ZTVqvKDQ8emSGUEMjsS4yHAwrp.jpg  ...   \n",
       "1   701729206      169  False  /pbrkL804c8yAv3zBZR4QPEafpAR.jpg  ...   \n",
       "2  1004558444      152  False  /nMKdUUepR0i5zn0y1T4CsSB5chy.jpg  ...   \n",
       "3  2923706026      162  False  /vL5LR6WdxWPjLPFRLe133jXWsh5.jpg  ...   \n",
       "4  1518815515      143  False  /9BBTo63ANSmhC4e6r62OJFuK2GL.jpg  ...   \n",
       "\n",
       "    original_title                                           overview  \\\n",
       "0        Inception  Cobb, a skilled thief who commits corporate es...   \n",
       "1     Interstellar  The adventures of a group of explorers who mak...   \n",
       "2  The Dark Knight  Batman raises the stakes in his war on crime. ...   \n",
       "3           Avatar  In the 22nd century, a paraplegic Marine is di...   \n",
       "4     The Avengers  When an unexpected enemy emerges and threatens...   \n",
       "\n",
       "  popularity                       poster_path  \\\n",
       "0     83.952  /oYuLEt3zVCKq57qu2F8dT7NIa6f.jpg   \n",
       "1    140.241  /gEU2QniE6E77NI6lCU6MxlNBvIx.jpg   \n",
       "2    130.643  /qJ2tW6WMUDux911r6m7haRef0WH.jpg   \n",
       "3     79.932  /kyeqWdyUXW608qlYkRqosgbbJyK.jpg   \n",
       "4     98.082   /RYMX2wcKCBAr24UyPD7xwmjaTn.jpg   \n",
       "\n",
       "                                             tagline  \\\n",
       "0               Your mind is the scene of the crime.   \n",
       "1  Mankind was born on Earth. It was never meant ...   \n",
       "2                  Welcome to a world without rules.   \n",
       "3                        Enter the world of Pandora.   \n",
       "4                            Some assembly required.   \n",
       "\n",
       "                                        genres  \\\n",
       "0           Action, Science Fiction, Adventure   \n",
       "1            Adventure, Drama, Science Fiction   \n",
       "2               Drama, Action, Crime, Thriller   \n",
       "3  Action, Adventure, Fantasy, Science Fiction   \n",
       "4           Science Fiction, Action, Adventure   \n",
       "\n",
       "                                production_companies  \\\n",
       "0  Legendary Pictures, Syncopy, Warner Bros. Pict...   \n",
       "1  Legendary Pictures, Syncopy, Lynda Obst Produc...   \n",
       "2  DC Comics, Legendary Pictures, Syncopy, Isobel...   \n",
       "3  Dune Entertainment, Lightstorm Entertainment, ...   \n",
       "4                                     Marvel Studios   \n",
       "\n",
       "                       production_countries  \\\n",
       "0  United Kingdom, United States of America   \n",
       "1  United Kingdom, United States of America   \n",
       "2  United Kingdom, United States of America   \n",
       "3  United States of America, United Kingdom   \n",
       "4                  United States of America   \n",
       "\n",
       "                     spoken_languages  \\\n",
       "0  English, French, Japanese, Swahili   \n",
       "1                             English   \n",
       "2                   English, Mandarin   \n",
       "3                    English, Spanish   \n",
       "4             English, Hindi, Russian   \n",
       "\n",
       "                                            keywords  \n",
       "0  rescue, mission, dream, airplane, paris, franc...  \n",
       "1  rescue, future, spacecraft, race against time,...  \n",
       "2  joker, sadism, chaos, secret identity, crime f...  \n",
       "3  future, society, culture clash, space travel, ...  \n",
       "4  new york city, superhero, shield, based on com...  \n",
       "\n",
       "[5 rows x 24 columns]"
      ]
     },
     "execution_count": 2,
     "metadata": {},
     "output_type": "execute_result"
    }
   ],
   "source": [
    "df_movies = pd.read_csv(r'C:\\PycharmProjects\\PythonProject\\recommendation_for_films\\dataset\\TMDB_movie_dataset_v11.csv')\n",
    "df_movies.head()"
   ]
  },
  {
   "cell_type": "code",
   "execution_count": 3,
   "id": "38d4b468-f5d4-49a7-a65a-b756c7b0a628",
   "metadata": {},
   "outputs": [
    {
     "data": {
      "text/plain": [
       "(1260572, 24)"
      ]
     },
     "execution_count": 3,
     "metadata": {},
     "output_type": "execute_result"
    }
   ],
   "source": [
    "df_movies.shape"
   ]
  },
  {
   "cell_type": "code",
   "execution_count": 4,
   "id": "63903878-3ea8-4bdf-8db0-e85487092c55",
   "metadata": {},
   "outputs": [
    {
     "data": {
      "text/html": [
       "<div>\n",
       "<style scoped>\n",
       "    .dataframe tbody tr th:only-of-type {\n",
       "        vertical-align: middle;\n",
       "    }\n",
       "\n",
       "    .dataframe tbody tr th {\n",
       "        vertical-align: top;\n",
       "    }\n",
       "\n",
       "    .dataframe thead th {\n",
       "        text-align: right;\n",
       "    }\n",
       "</style>\n",
       "<table border=\"1\" class=\"dataframe\">\n",
       "  <thead>\n",
       "    <tr style=\"text-align: right;\">\n",
       "      <th></th>\n",
       "      <th>title</th>\n",
       "      <th>release_date</th>\n",
       "      <th>overview</th>\n",
       "    </tr>\n",
       "  </thead>\n",
       "  <tbody>\n",
       "    <tr>\n",
       "      <th>631973</th>\n",
       "      <td>Jar Media The Movie - Part 3 - Alive Reckoning</td>\n",
       "      <td>2099-12-31</td>\n",
       "      <td>In the third and final installment of the Jar ...</td>\n",
       "    </tr>\n",
       "    <tr>\n",
       "      <th>668170</th>\n",
       "      <td>The Movie You Will Never See</td>\n",
       "      <td>2099-11-18</td>\n",
       "      <td>A movie made in 2015 set to release in 2115. (...</td>\n",
       "    </tr>\n",
       "    <tr>\n",
       "      <th>977157</th>\n",
       "      <td>100 Years</td>\n",
       "      <td>2099-11-18</td>\n",
       "      <td>100 Years is an \"upcoming\" science fiction fil...</td>\n",
       "    </tr>\n",
       "    <tr>\n",
       "      <th>544226</th>\n",
       "      <td>De verkeerde bril</td>\n",
       "      <td>2085-12-28</td>\n",
       "      <td>NaN</td>\n",
       "    </tr>\n",
       "    <tr>\n",
       "      <th>611105</th>\n",
       "      <td>Jar Media: Escape 2 Swindon</td>\n",
       "      <td>2077-12-31</td>\n",
       "      <td>Cast of Jar return in a low budget tv movie wh...</td>\n",
       "    </tr>\n",
       "    <tr>\n",
       "      <th>714003</th>\n",
       "      <td>La Grève des ouvriers de Margoline</td>\n",
       "      <td>2074-01-01</td>\n",
       "      <td>NaN</td>\n",
       "    </tr>\n",
       "    <tr>\n",
       "      <th>596846</th>\n",
       "      <td>Fast X Part 2 2 Fast X Too Furious Too Serious...</td>\n",
       "      <td>2069-09-11</td>\n",
       "      <td>Dom Toretto and his crew face off against a ne...</td>\n",
       "    </tr>\n",
       "    <tr>\n",
       "      <th>681760</th>\n",
       "      <td>Pikkuinen...</td>\n",
       "      <td>2061-12-07</td>\n",
       "      <td>NaN</td>\n",
       "    </tr>\n",
       "    <tr>\n",
       "      <th>687199</th>\n",
       "      <td>Athens dances Rock 'n' Roll</td>\n",
       "      <td>2057-01-01</td>\n",
       "      <td>The film refers to the fashion of the new Amer...</td>\n",
       "    </tr>\n",
       "    <tr>\n",
       "      <th>681812</th>\n",
       "      <td>Onnen saari</td>\n",
       "      <td>2055-02-01</td>\n",
       "      <td>NaN</td>\n",
       "    </tr>\n",
       "  </tbody>\n",
       "</table>\n",
       "</div>"
      ],
      "text/plain": [
       "                                                    title release_date  \\\n",
       "631973     Jar Media The Movie - Part 3 - Alive Reckoning   2099-12-31   \n",
       "668170                       The Movie You Will Never See   2099-11-18   \n",
       "977157                                          100 Years   2099-11-18   \n",
       "544226                                  De verkeerde bril   2085-12-28   \n",
       "611105                        Jar Media: Escape 2 Swindon   2077-12-31   \n",
       "714003                 La Grève des ouvriers de Margoline   2074-01-01   \n",
       "596846  Fast X Part 2 2 Fast X Too Furious Too Serious...   2069-09-11   \n",
       "681760                                       Pikkuinen...   2061-12-07   \n",
       "687199                        Athens dances Rock 'n' Roll   2057-01-01   \n",
       "681812                                        Onnen saari   2055-02-01   \n",
       "\n",
       "                                                 overview  \n",
       "631973  In the third and final installment of the Jar ...  \n",
       "668170  A movie made in 2015 set to release in 2115. (...  \n",
       "977157  100 Years is an \"upcoming\" science fiction fil...  \n",
       "544226                                                NaN  \n",
       "611105  Cast of Jar return in a low budget tv movie wh...  \n",
       "714003                                                NaN  \n",
       "596846  Dom Toretto and his crew face off against a ne...  \n",
       "681760                                                NaN  \n",
       "687199  The film refers to the fashion of the new Amer...  \n",
       "681812                                                NaN  "
      ]
     },
     "execution_count": 4,
     "metadata": {},
     "output_type": "execute_result"
    }
   ],
   "source": [
    "df_movies['release_date'] = pd.to_datetime(df_movies['release_date'], errors='coerce')\n",
    "latest = df_movies.sort_values('release_date', ascending=False).head(10)[\n",
    "    ['title', 'release_date', 'overview']\n",
    "]\n",
    "latest"
   ]
  },
  {
   "cell_type": "code",
   "execution_count": 5,
   "id": "e9f4f713-4282-4d21-9e86-4a0623f7ccce",
   "metadata": {},
   "outputs": [
    {
     "data": {
      "text/html": [
       "<div>\n",
       "<style scoped>\n",
       "    .dataframe tbody tr th:only-of-type {\n",
       "        vertical-align: middle;\n",
       "    }\n",
       "\n",
       "    .dataframe tbody tr th {\n",
       "        vertical-align: top;\n",
       "    }\n",
       "\n",
       "    .dataframe thead th {\n",
       "        text-align: right;\n",
       "    }\n",
       "</style>\n",
       "<table border=\"1\" class=\"dataframe\">\n",
       "  <thead>\n",
       "    <tr style=\"text-align: right;\">\n",
       "      <th></th>\n",
       "      <th>id</th>\n",
       "      <th>name</th>\n",
       "      <th>number_of_seasons</th>\n",
       "      <th>number_of_episodes</th>\n",
       "      <th>original_language</th>\n",
       "      <th>vote_count</th>\n",
       "      <th>vote_average</th>\n",
       "      <th>overview</th>\n",
       "      <th>adult</th>\n",
       "      <th>backdrop_path</th>\n",
       "      <th>...</th>\n",
       "      <th>tagline</th>\n",
       "      <th>genres</th>\n",
       "      <th>created_by</th>\n",
       "      <th>languages</th>\n",
       "      <th>networks</th>\n",
       "      <th>origin_country</th>\n",
       "      <th>spoken_languages</th>\n",
       "      <th>production_companies</th>\n",
       "      <th>production_countries</th>\n",
       "      <th>episode_run_time</th>\n",
       "    </tr>\n",
       "  </thead>\n",
       "  <tbody>\n",
       "    <tr>\n",
       "      <th>0</th>\n",
       "      <td>1399</td>\n",
       "      <td>Game of Thrones</td>\n",
       "      <td>8</td>\n",
       "      <td>73</td>\n",
       "      <td>en</td>\n",
       "      <td>21857</td>\n",
       "      <td>8.442</td>\n",
       "      <td>Seven noble families fight for control of the ...</td>\n",
       "      <td>False</td>\n",
       "      <td>/2OMB0ynKlyIenMJWI2Dy9IWT4c.jpg</td>\n",
       "      <td>...</td>\n",
       "      <td>Winter Is Coming</td>\n",
       "      <td>Sci-Fi &amp; Fantasy, Drama, Action &amp; Adventure</td>\n",
       "      <td>David Benioff, D.B. Weiss</td>\n",
       "      <td>en</td>\n",
       "      <td>HBO</td>\n",
       "      <td>US</td>\n",
       "      <td>English</td>\n",
       "      <td>Revolution Sun Studios, Television 360, Genera...</td>\n",
       "      <td>United Kingdom, United States of America</td>\n",
       "      <td>0</td>\n",
       "    </tr>\n",
       "    <tr>\n",
       "      <th>1</th>\n",
       "      <td>71446</td>\n",
       "      <td>Money Heist</td>\n",
       "      <td>3</td>\n",
       "      <td>41</td>\n",
       "      <td>es</td>\n",
       "      <td>17836</td>\n",
       "      <td>8.257</td>\n",
       "      <td>To carry out the biggest heist in history, a m...</td>\n",
       "      <td>False</td>\n",
       "      <td>/gFZriCkpJYsApPZEF3jhxL4yLzG.jpg</td>\n",
       "      <td>...</td>\n",
       "      <td>The perfect robbery.</td>\n",
       "      <td>Crime, Drama</td>\n",
       "      <td>Álex Pina</td>\n",
       "      <td>es</td>\n",
       "      <td>Netflix, Antena 3</td>\n",
       "      <td>ES</td>\n",
       "      <td>Español</td>\n",
       "      <td>Vancouver Media</td>\n",
       "      <td>Spain</td>\n",
       "      <td>70</td>\n",
       "    </tr>\n",
       "    <tr>\n",
       "      <th>2</th>\n",
       "      <td>66732</td>\n",
       "      <td>Stranger Things</td>\n",
       "      <td>4</td>\n",
       "      <td>34</td>\n",
       "      <td>en</td>\n",
       "      <td>16161</td>\n",
       "      <td>8.624</td>\n",
       "      <td>When a young boy vanishes, a small town uncove...</td>\n",
       "      <td>False</td>\n",
       "      <td>/2MaumbgBlW1NoPo3ZJO38A6v7OS.jpg</td>\n",
       "      <td>...</td>\n",
       "      <td>Every ending has a beginning.</td>\n",
       "      <td>Drama, Sci-Fi &amp; Fantasy, Mystery</td>\n",
       "      <td>Matt Duffer, Ross Duffer</td>\n",
       "      <td>en</td>\n",
       "      <td>Netflix</td>\n",
       "      <td>US</td>\n",
       "      <td>English</td>\n",
       "      <td>21 Laps Entertainment, Monkey Massacre Product...</td>\n",
       "      <td>United States of America</td>\n",
       "      <td>0</td>\n",
       "    </tr>\n",
       "    <tr>\n",
       "      <th>3</th>\n",
       "      <td>1402</td>\n",
       "      <td>The Walking Dead</td>\n",
       "      <td>11</td>\n",
       "      <td>177</td>\n",
       "      <td>en</td>\n",
       "      <td>15432</td>\n",
       "      <td>8.121</td>\n",
       "      <td>Sheriff's deputy Rick Grimes awakens from a co...</td>\n",
       "      <td>False</td>\n",
       "      <td>/x4salpjB11umlUOltfNvSSrjSXm.jpg</td>\n",
       "      <td>...</td>\n",
       "      <td>Fight the dead. Fear the living.</td>\n",
       "      <td>Action &amp; Adventure, Drama, Sci-Fi &amp; Fantasy</td>\n",
       "      <td>Frank Darabont</td>\n",
       "      <td>en</td>\n",
       "      <td>AMC</td>\n",
       "      <td>US</td>\n",
       "      <td>English</td>\n",
       "      <td>AMC Studios, Circle of Confusion, Valhalla Mot...</td>\n",
       "      <td>United States of America</td>\n",
       "      <td>42</td>\n",
       "    </tr>\n",
       "    <tr>\n",
       "      <th>4</th>\n",
       "      <td>63174</td>\n",
       "      <td>Lucifer</td>\n",
       "      <td>6</td>\n",
       "      <td>93</td>\n",
       "      <td>en</td>\n",
       "      <td>13870</td>\n",
       "      <td>8.486</td>\n",
       "      <td>Bored and unhappy as the Lord of Hell, Lucifer...</td>\n",
       "      <td>False</td>\n",
       "      <td>/aDBRtunw49UF4XmqfyNuD9nlYIu.jpg</td>\n",
       "      <td>...</td>\n",
       "      <td>It's good to be bad.</td>\n",
       "      <td>Crime, Sci-Fi &amp; Fantasy</td>\n",
       "      <td>Tom Kapinos</td>\n",
       "      <td>en</td>\n",
       "      <td>FOX, Netflix</td>\n",
       "      <td>US</td>\n",
       "      <td>English</td>\n",
       "      <td>Warner Bros. Television, DC Entertainment, Jer...</td>\n",
       "      <td>United States of America</td>\n",
       "      <td>45</td>\n",
       "    </tr>\n",
       "  </tbody>\n",
       "</table>\n",
       "<p>5 rows × 29 columns</p>\n",
       "</div>"
      ],
      "text/plain": [
       "      id              name  number_of_seasons  number_of_episodes  \\\n",
       "0   1399   Game of Thrones                  8                  73   \n",
       "1  71446       Money Heist                  3                  41   \n",
       "2  66732   Stranger Things                  4                  34   \n",
       "3   1402  The Walking Dead                 11                 177   \n",
       "4  63174           Lucifer                  6                  93   \n",
       "\n",
       "  original_language  vote_count  vote_average  \\\n",
       "0                en       21857         8.442   \n",
       "1                es       17836         8.257   \n",
       "2                en       16161         8.624   \n",
       "3                en       15432         8.121   \n",
       "4                en       13870         8.486   \n",
       "\n",
       "                                            overview  adult  \\\n",
       "0  Seven noble families fight for control of the ...  False   \n",
       "1  To carry out the biggest heist in history, a m...  False   \n",
       "2  When a young boy vanishes, a small town uncove...  False   \n",
       "3  Sheriff's deputy Rick Grimes awakens from a co...  False   \n",
       "4  Bored and unhappy as the Lord of Hell, Lucifer...  False   \n",
       "\n",
       "                      backdrop_path  ...                           tagline  \\\n",
       "0   /2OMB0ynKlyIenMJWI2Dy9IWT4c.jpg  ...                  Winter Is Coming   \n",
       "1  /gFZriCkpJYsApPZEF3jhxL4yLzG.jpg  ...              The perfect robbery.   \n",
       "2  /2MaumbgBlW1NoPo3ZJO38A6v7OS.jpg  ...     Every ending has a beginning.   \n",
       "3  /x4salpjB11umlUOltfNvSSrjSXm.jpg  ...  Fight the dead. Fear the living.   \n",
       "4  /aDBRtunw49UF4XmqfyNuD9nlYIu.jpg  ...              It's good to be bad.   \n",
       "\n",
       "                                        genres                 created_by  \\\n",
       "0  Sci-Fi & Fantasy, Drama, Action & Adventure  David Benioff, D.B. Weiss   \n",
       "1                                 Crime, Drama                  Álex Pina   \n",
       "2             Drama, Sci-Fi & Fantasy, Mystery   Matt Duffer, Ross Duffer   \n",
       "3  Action & Adventure, Drama, Sci-Fi & Fantasy             Frank Darabont   \n",
       "4                      Crime, Sci-Fi & Fantasy                Tom Kapinos   \n",
       "\n",
       "   languages           networks  origin_country spoken_languages  \\\n",
       "0         en                HBO              US          English   \n",
       "1         es  Netflix, Antena 3              ES          Español   \n",
       "2         en            Netflix              US          English   \n",
       "3         en                AMC              US          English   \n",
       "4         en       FOX, Netflix              US          English   \n",
       "\n",
       "                                production_companies  \\\n",
       "0  Revolution Sun Studios, Television 360, Genera...   \n",
       "1                                    Vancouver Media   \n",
       "2  21 Laps Entertainment, Monkey Massacre Product...   \n",
       "3  AMC Studios, Circle of Confusion, Valhalla Mot...   \n",
       "4  Warner Bros. Television, DC Entertainment, Jer...   \n",
       "\n",
       "                       production_countries episode_run_time  \n",
       "0  United Kingdom, United States of America                0  \n",
       "1                                     Spain               70  \n",
       "2                  United States of America                0  \n",
       "3                  United States of America               42  \n",
       "4                  United States of America               45  \n",
       "\n",
       "[5 rows x 29 columns]"
      ]
     },
     "execution_count": 5,
     "metadata": {},
     "output_type": "execute_result"
    }
   ],
   "source": [
    "df_tv_shows = pd.read_csv(r'C:\\PycharmProjects\\PythonProject\\recommendation_for_films\\dataset\\archive\\TMDB_tv_dataset_v3.csv')\n",
    "df_tv_shows.head()"
   ]
  },
  {
   "cell_type": "code",
   "execution_count": 6,
   "id": "95969717-3c2b-445f-b22d-1bf925e888bd",
   "metadata": {},
   "outputs": [
    {
     "data": {
      "text/plain": [
       "(168639, 29)"
      ]
     },
     "execution_count": 6,
     "metadata": {},
     "output_type": "execute_result"
    }
   ],
   "source": [
    "df_tv_shows.shape"
   ]
  },
  {
   "cell_type": "code",
   "execution_count": 7,
   "id": "0a2c93ca-e89b-4da7-803e-9c7102db0eeb",
   "metadata": {},
   "outputs": [],
   "source": [
    "def check_dataset(df, name='TMDB Movies'):\n",
    "    \"\"\"\n",
    "    Расширенный EDA для df_movies (TMDB 2024).\n",
    "    Показывает ключевые статистики, пропуски, дубликаты, аномалии.\n",
    "    \"\"\"\n",
    "    print(f\"\\n{'='*60}\\nEDA: {name}\\n{'='*60}\")\n",
    "\n",
    "    # 1. Размер и типы\n",
    "    print(f\"Размер: {df.shape}\")\n",
    "    print(\"Типы данных:\\n\", df.dtypes.to_string())\n",
    "\n",
    "    # 2. Пропуски\n",
    "    missing = df.isnull().sum().sort_values(ascending=False)\n",
    "    print(\"\\nПропущенные значения:\\n\", missing[missing > 0])\n",
    "\n",
    "    # 3. Дубликаты\n",
    "    dups = df.duplicated(subset=['id'], keep='first').sum()\n",
    "    print(f\"\\nДубликаты по 'id': {dups}\")\n",
    "\n",
    "    # 4. Быстрый preview последних релизов\n",
    "    if 'release_date' in df.columns:\n",
    "        df['release_date'] = pd.to_datetime(df['release_date'], errors='coerce')\n",
    "        latest = df.sort_values('release_date', ascending=False).head(3)[\n",
    "            ['title', 'release_date', 'overview']\n",
    "        ]\n",
    "        print(\"\\nПоследние 3 релиза:\")\n",
    "        for _, row in latest.iterrows():\n",
    "            print(f\"  {row.release_date.date()} | {row.title}\")\n",
    "            print(f\"    {str(row.overview)[:120]}...\")\n",
    "\n",
    "    # 5. Категориальные поля (<= 30 категорий)\n",
    "    print(\"\\nКатегориальные поля:\")\n",
    "    for col in df.columns:\n",
    "        if df[col].nunique(dropna=False) <= 30:\n",
    "            print(f\"  {col}: {df[col].nunique()} значений\")\n",
    "\n",
    "    # 6. Числовые колонки\n",
    "    num_cols = df.select_dtypes(include=np.number).columns\n",
    "    if len(num_cols):\n",
    "        print(\"\\nСтатистика числовых колонок:\")\n",
    "        print(df[num_cols].describe().T[['min', '25%', '50%', '75%', 'max']])\n",
    "\n",
    "        # Гистограммы + выбросы\n",
    "        for col in num_cols:\n",
    "            plt.figure(figsize=(10, 3))\n",
    "            plt.hist(df[col].dropna(), bins=50, color='skyblue', alpha=0.7)\n",
    "            plt.title(f'Распределение {col}')\n",
    "            plt.tight_layout(); plt.show()\n",
    "\n",
    "            # IQR-выбросы\n",
    "            q1, q3 = df[col].quantile([0.25, 0.75])\n",
    "            iqr = q3 - q1\n",
    "            lower, upper = q1 - 1.5*iqr, q3 + 1.5*iqr\n",
    "            outliers = df[(df[col] < lower) | (df[col] > upper)]\n",
    "            if not outliers.empty:\n",
    "                print(f\"  {col}: {len(outliers)} выбросов ({len(outliers)/len(df)*100:.2f}%)\")\n",
    "\n",
    "    # 7. Аномальные даты\n",
    "    if 'release_date' in df.columns:\n",
    "        min_d, max_d = df['release_date'].min(), df['release_date'].max()\n",
    "        future = df[df['release_date'] > pd.Timestamp.now()]\n",
    "        old    = df[df['release_date'] < pd.Timestamp('1900-01-01')]\n",
    "        print(f\"\\nДаты: от {min_d.date()} до {max_d.date()}\")\n",
    "        if not future.empty:\n",
    "            print(f\"  Будущие даты: {len(future)} записей\")\n",
    "        if not old.empty:\n",
    "            print(f\"  До 1900 года: {len(old)} записей\")\n",
    "\n",
    "    print(\"=\"*60)"
   ]
  },
  {
   "cell_type": "code",
   "execution_count": 8,
   "id": "5d5b3e08-a5bd-4f97-9d02-564db2a5c64e",
   "metadata": {},
   "outputs": [
    {
     "name": "stdout",
     "output_type": "stream",
     "text": [
      "\n",
      "============================================================\n",
      "EDA: TMDB Movies\n",
      "============================================================\n",
      "Размер: (1260572, 24)\n",
      "Типы данных:\n",
      " id                               int64\n",
      "title                           object\n",
      "vote_average                   float64\n",
      "vote_count                       int64\n",
      "status                          object\n",
      "release_date            datetime64[ns]\n",
      "revenue                          int64\n",
      "runtime                          int64\n",
      "adult                             bool\n",
      "backdrop_path                   object\n",
      "budget                           int64\n",
      "homepage                        object\n",
      "imdb_id                         object\n",
      "original_language               object\n",
      "original_title                  object\n",
      "overview                        object\n",
      "popularity                     float64\n",
      "poster_path                     object\n",
      "tagline                         object\n",
      "genres                          object\n",
      "production_companies            object\n",
      "production_countries            object\n",
      "spoken_languages                object\n",
      "keywords                        object\n",
      "\n",
      "Пропущенные значения:\n",
      " homepage                1128979\n",
      "tagline                 1084067\n",
      "backdrop_path            935248\n",
      "keywords                 933802\n",
      "production_companies     706524\n",
      "imdb_id                  628766\n",
      "production_countries     584586\n",
      "spoken_languages         561501\n",
      "genres                   529771\n",
      "poster_path              421365\n",
      "overview                 272971\n",
      "release_date             241779\n",
      "title                        13\n",
      "original_title               13\n",
      "dtype: int64\n",
      "\n",
      "Дубликаты по 'id': 994\n",
      "\n",
      "Последние 3 релиза:\n",
      "  2099-12-31 | Jar Media The Movie - Part 3 - Alive Reckoning\n",
      "    In the third and final installment of the Jar Media Cinematic Saga, the boys return for their most unhinged, overfunded,...\n",
      "  2099-11-18 | The Movie You Will Never See\n",
      "    A movie made in 2015 set to release in 2115. (The release date is listed as 2099 due to system limitations, as TMDB does...\n",
      "  2099-11-18 | 100 Years\n",
      "    100 Years is an \"upcoming\" science fiction film written by John Malkovich and directed by Robert Rodriguez. Advertised i...\n",
      "\n",
      "Категориальные поля:\n",
      "  status: 6 значений\n",
      "  adult: 2 значений\n",
      "\n",
      "Статистика числовых колонок:\n",
      "               min        25%       50%          75%           max\n",
      "id             2.0  447979.75  820717.5  1196189.250  1.518181e+06\n",
      "vote_average   0.0       0.00       0.0        4.000  1.000000e+01\n",
      "vote_count     0.0       0.00       0.0        1.000  3.449500e+04\n",
      "revenue      -12.0       0.00       0.0        0.000  5.000000e+09\n",
      "runtime      -28.0       0.00      19.0       87.000  1.440000e+04\n",
      "budget         0.0       0.00       0.0        0.000  1.000000e+09\n",
      "popularity     0.0       0.60       0.6        0.841  2.994357e+03\n"
     ]
    },
    {
     "data": {
      "image/png": "[encoded data removed]",
      "text/plain": [
       "<Figure size 1000x300 with 1 Axes>"
      ]
     },
     "metadata": {},
     "output_type": "display_data"
    },
    {
     "data": {
      "image/png": "[encoded data removed]",
      "text/plain": [
       "<Figure size 1000x300 with 1 Axes>"
      ]
     },
     "metadata": {},
     "output_type": "display_data"
    },
    {
     "data": {
      "image/png": "[encoded data removed]",
      "text/plain": [
       "<Figure size 1000x300 with 1 Axes>"
      ]
     },
     "metadata": {},
     "output_type": "display_data"
    },
    {
     "name": "stdout",
     "output_type": "stream",
     "text": [
      "  vote_count: 175459 выбросов (13.92%)\n"
     ]
    },
    {
     "data": {
      "image/png": "[encoded data removed]",
      "text/plain": [
       "<Figure size 1000x300 with 1 Axes>"
      ]
     },
     "metadata": {},
     "output_type": "display_data"
    },
    {
     "name": "stdout",
     "output_type": "stream",
     "text": [
      "  revenue: 22334 выбросов (1.77%)\n"
     ]
    },
    {
     "data": {
      "image/png": "[encoded data removed]",
      "text/plain": [
       "<Figure size 1000x300 with 1 Axes>"
      ]
     },
     "metadata": {},
     "output_type": "display_data"
    },
    {
     "name": "stdout",
     "output_type": "stream",
     "text": [
      "  runtime: 10594 выбросов (0.84%)\n"
     ]
    },
    {
     "data": {
      "image/png": "[encoded data removed]",
      "text/plain": [
       "<Figure size 1000x300 with 1 Axes>"
      ]
     },
     "metadata": {},
     "output_type": "display_data"
    },
    {
     "name": "stdout",
     "output_type": "stream",
     "text": [
      "  budget: 68592 выбросов (5.44%)\n"
     ]
    },
    {
     "data": {
      "image/png": "[encoded data removed]",
      "text/plain": [
       "<Figure size 1000x300 with 1 Axes>"
      ]
     },
     "metadata": {},
     "output_type": "display_data"
    },
    {
     "name": "stdout",
     "output_type": "stream",
     "text": [
      "  popularity: 429209 выбросов (34.05%)\n",
      "\n",
      "Даты: от 1800-01-01 до 2099-12-31\n",
      "  Будущие даты: 1456 записей\n",
      "  До 1900 года: 2080 записей\n",
      "============================================================\n"
     ]
    }
   ],
   "source": [
    "check_dataset(df_movies)"
   ]
  },
  {
   "cell_type": "code",
   "execution_count": 9,
   "id": "98f6f343-167f-479e-ba63-f39cac2dffb9",
   "metadata": {},
   "outputs": [],
   "source": [
    "def check_tv_dataset(df):\n",
    "    print(f\"\\n{'='*50}\\nАнализ TV Series Dataset\\n{'='*50}\")\n",
    "    print(f\"Размер: {df.shape}\")\n",
    "    print(f\"Типы данных:\\n{df.dtypes}\")\n",
    "\n",
    "    missing = df.isnull().sum().sort_values(ascending=False)\n",
    "    print(f\"\\nПропущенные значения:\\n{missing[missing > 0]}\")\n",
    "\n",
    "    key_columns = ['vote_average', 'vote_count', 'popularity', 'number_of_seasons']\n",
    "    for col in key_columns:\n",
    "        if col in df.columns:\n",
    "            zeros = (df[col] == 0).sum()\n",
    "            negs  = (df[col] < 0).sum()\n",
    "            print(f\"- {col}: {zeros} нулей ({zeros/len(df)*100:.2f}%), {negs} отриц.\")\n",
    "\n",
    "            plt.figure(figsize=(12,3))\n",
    "            plt.subplot(1,2,1)\n",
    "            plt.hist(df[col], bins=50, alpha=.7)\n",
    "            plt.title(f'Hist {col}')\n",
    "            plt.subplot(1,2,2)\n",
    "            plt.boxplot(df[col].dropna())\n",
    "            plt.title(f'Box {col}')\n",
    "            plt.tight_layout(); plt.show()\n",
    "\n",
    "    # Языки / страны\n",
    "    if 'original_language' in df.columns:\n",
    "        print(\"\\nТоп-10 языков:\")\n",
    "        print(df['original_language'].value_counts().head(10))\n",
    "\n",
    "    # Даты\n",
    "    now = pd.Timestamp.now()\n",
    "    for col in ['first_air_date', 'last_air_date']:\n",
    "        if col in df.columns:\n",
    "            df[col] = pd.to_datetime(df[col], errors='coerce')\n",
    "            future = df[df[col] > now]\n",
    "            print(f\"- {col}: от {df[col].min()} до {df[col].max()}, будущих {len(future)}\")\n",
    "\n",
    "    # Дубликаты ID\n",
    "    if 'id' in df.columns:\n",
    "        print(f\"\\nДубликаты id: {df['id'].duplicated().sum()}\")"
   ]
  },
  {
   "cell_type": "code",
   "execution_count": 10,
   "id": "7fa38234-3000-4cb0-98b5-0e501a9387d9",
   "metadata": {},
   "outputs": [
    {
     "name": "stdout",
     "output_type": "stream",
     "text": [
      "\n",
      "==================================================\n",
      "Анализ TV Series Dataset\n",
      "==================================================\n",
      "Размер: (168639, 29)\n",
      "Типы данных:\n",
      "id                        int64\n",
      "name                     object\n",
      "number_of_seasons         int64\n",
      "number_of_episodes        int64\n",
      "original_language        object\n",
      "vote_count                int64\n",
      "vote_average            float64\n",
      "overview                 object\n",
      "adult                      bool\n",
      "backdrop_path            object\n",
      "first_air_date           object\n",
      "last_air_date            object\n",
      "homepage                 object\n",
      "in_production              bool\n",
      "original_name            object\n",
      "popularity              float64\n",
      "poster_path              object\n",
      "type                     object\n",
      "status                   object\n",
      "tagline                  object\n",
      "genres                   object\n",
      "created_by               object\n",
      "languages                object\n",
      "networks                 object\n",
      "origin_country           object\n",
      "spoken_languages         object\n",
      "production_companies     object\n",
      "production_countries     object\n",
      "episode_run_time          int64\n",
      "dtype: object\n",
      "\n",
      "Пропущенные значения:\n",
      "tagline                 163309\n",
      "created_by              132143\n",
      "homepage                117641\n",
      "production_companies    109297\n",
      "production_countries     91128\n",
      "backdrop_path            90859\n",
      "overview                 75306\n",
      "networks                 71050\n",
      "genres                   68926\n",
      "poster_path              59902\n",
      "spoken_languages         59359\n",
      "languages                58589\n",
      "first_air_date           31736\n",
      "origin_country           31030\n",
      "last_air_date            29904\n",
      "original_name                5\n",
      "name                         5\n",
      "dtype: int64\n",
      "- vote_average: 111135 нулей (65.90%), 0 отриц.\n"
     ]
    },
    {
     "data": {
      "image/png": "[encoded data removed]",
      "text/plain": [
       "<Figure size 1200x300 with 2 Axes>"
      ]
     },
     "metadata": {},
     "output_type": "display_data"
    },
    {
     "name": "stdout",
     "output_type": "stream",
     "text": [
      "- vote_count: 111137 нулей (65.90%), 0 отриц.\n"
     ]
    },
    {
     "data": {
      "image/png": "[encoded data removed]",
      "text/plain": [
       "<Figure size 1200x300 with 2 Axes>"
      ]
     },
     "metadata": {},
     "output_type": "display_data"
    },
    {
     "name": "stdout",
     "output_type": "stream",
     "text": [
      "- popularity: 2385 нулей (1.41%), 0 отриц.\n"
     ]
    },
    {
     "data": {
      "image/png": "[encoded data removed]",
      "text/plain": [
       "<Figure size 1200x300 with 2 Axes>"
      ]
     },
     "metadata": {},
     "output_type": "display_data"
    },
    {
     "name": "stdout",
     "output_type": "stream",
     "text": [
      "- number_of_seasons: 22428 нулей (13.30%), 0 отриц.\n"
     ]
    },
    {
     "data": {
      "image/png": "[encoded data removed]",
      "text/plain": [
       "<Figure size 1200x300 with 2 Axes>"
      ]
     },
     "metadata": {},
     "output_type": "display_data"
    },
    {
     "name": "stdout",
     "output_type": "stream",
     "text": [
      "\n",
      "Топ-10 языков:\n",
      "original_language\n",
      "en    76304\n",
      "zh    14422\n",
      "ja    14048\n",
      "ko     7820\n",
      "de     7712\n",
      "fr     7290\n",
      "es     5602\n",
      "pt     3551\n",
      "ru     2963\n",
      "nl     2923\n",
      "Name: count, dtype: int64\n",
      "- first_air_date: от 1917-01-09 00:00:00 до 2046-02-24 00:00:00, будущих 8\n",
      "- last_air_date: от 1917-01-09 00:00:00 до 2024-04-04 00:00:00, будущих 0\n",
      "\n",
      "Дубликаты id: 3934\n"
     ]
    }
   ],
   "source": [
    "check_tv_dataset(df_tv_shows)"
   ]
  },
  {
   "cell_type": "code",
   "execution_count": 11,
   "id": "1a674283-92aa-46a2-805e-eff4a86f289a",
   "metadata": {},
   "outputs": [],
   "source": [
    "def soft_clean_tv_data(df):\n",
    "    \"\"\"Очистка TV-датасета без заполнения vote_average\"\"\"\n",
    "    # 1. Дубликаты\n",
    "    df = df.drop_duplicates().drop_duplicates(subset='id', keep='first')\n",
    "\n",
    "    # 2. Будущие даты\n",
    "    now = pd.Timestamp.now()\n",
    "    df['first_air_date'] = pd.to_datetime(df['first_air_date'], errors='coerce')\n",
    "    df = df[(df['first_air_date'] <= now) | df['first_air_date'].isna()]\n",
    "\n",
    "    # 3. Пропуски в текстовых полях\n",
    "    df['overview'] = df['overview'].fillna('No description')\n",
    "    df['genres']   = df['genres'].fillna('Unknown')\n",
    "\n",
    "    # 4. Удаление «грязных» колонок\n",
    "    df = df.drop(columns=[c for c in ['tagline','created_by','homepage'] if c in df.columns])\n",
    "\n",
    "    return df"
   ]
  },
  {
   "cell_type": "code",
   "execution_count": 12,
   "id": "962345ac-f242-44ec-898c-afa80b20142f",
   "metadata": {},
   "outputs": [],
   "source": [
    "def clean_movies_data(df):\n",
    " # 0. Копия\n",
    "    df = df.copy()\n",
    "\n",
    "    # 1. Дубликаты\n",
    "    df = df.drop_duplicates().drop_duplicates(subset='id', keep='first')\n",
    "\n",
    "    # 2. Даты: превращаем в datetime и режем анти-футуризм\n",
    "    df['release_date'] = pd.to_datetime(df['release_date'], errors='coerce')\n",
    "    today = pd.Timestamp.now()\n",
    "    df = df[(df['release_date'] >= '1900-01-01') &\n",
    "            (df['release_date'] <= today)]\n",
    "\n",
    "    # 3. Убираем явно ошибочные числовые значения\n",
    "    numeric_cols = ['vote_count', 'runtime', 'budget', 'revenue']\n",
    "    for col in numeric_cols:\n",
    "        if col in df.columns:\n",
    "            df = df[df[col] >= 0]\n",
    "\n",
    "    # 4. Оставляем только фильмы с хотя бы одним голосом\n",
    "    df = df[df['vote_count'] > 0]\n",
    "\n",
    "    # 5. Заполняем пропуски в тексте\n",
    "    text_cols = ['overview', 'genres', 'tagline', 'original_language']\n",
    "    for col in text_cols:\n",
    "        if col in df.columns:\n",
    "            df[col] = df[col].fillna('Unknown')\n",
    "\n",
    "    # 6. Оставляем только нужные колонки\n",
    "    keep = [\n",
    "        'id', 'title', 'original_title', 'overview', 'genres',\n",
    "        'release_date', 'vote_average', 'vote_count',\n",
    "        'popularity', 'runtime', 'budget', 'revenue',\n",
    "        'original_language', 'adult', 'imdb_id'\n",
    "    ]\n",
    "    df = df[[c for c in keep if c in df.columns]]\n",
    "\n",
    "    return df"
   ]
  },
  {
   "cell_type": "code",
   "execution_count": 13,
   "id": "2389669e-632d-4dce-8cde-fc6152fe7d8d",
   "metadata": {},
   "outputs": [],
   "source": [
    "df_tv_shows_clean = soft_clean_tv_data(df_tv_shows)"
   ]
  },
  {
   "cell_type": "code",
   "execution_count": 14,
   "id": "0721f87b-bec7-408c-a138-f3c747d9d935",
   "metadata": {},
   "outputs": [],
   "source": [
    "df_movies_clean = clean_movies_data(df_movies)"
   ]
  },
  {
   "cell_type": "code",
   "execution_count": 15,
   "id": "e9718594-ab33-40d0-b38e-632f36fd76b6",
   "metadata": {},
   "outputs": [
    {
     "name": "stdout",
     "output_type": "stream",
     "text": [
      "Размер после очистки:\n",
      "df_movies_clean: (344930, 15)\n"
     ]
    }
   ],
   "source": [
    "print(\"Размер после очистки:\")\n",
    "print(f\"df_movies_clean: {df_movies_clean.shape}\")"
   ]
  },
  {
   "cell_type": "code",
   "execution_count": 16,
   "id": "b3b2b80f-55dc-4db3-8ae5-57a5bcc9ede7",
   "metadata": {},
   "outputs": [],
   "source": [
    "def print_clean_stats(original, cleaned, name):\n",
    "    removed = len(original) - len(cleaned)\n",
    "    percent = (removed / len(original)) * 100\n",
    "    print(f\"{name}: Удалено записей - {removed} ({percent:.2f}%)\")"
   ]
  },
  {
   "cell_type": "code",
   "execution_count": 17,
   "id": "dacd5bcf-d459-47aa-a639-6c3cd767d7b9",
   "metadata": {},
   "outputs": [
    {
     "name": "stdout",
     "output_type": "stream",
     "text": [
      "TV Shows: Удалено записей - 3941 (2.34%)\n",
      "Movies: Удалено записей - 915642 (72.64%)\n"
     ]
    }
   ],
   "source": [
    "print_clean_stats(df_tv_shows, df_tv_shows_clean, \"TV Shows\")\n",
    "print_clean_stats(df_movies, df_movies_clean, \"Movies\")"
   ]
  },
  {
   "cell_type": "code",
   "execution_count": 19,
   "id": "abcb2caf-df39-4b12-a92f-a7a2db4f0eac",
   "metadata": {},
   "outputs": [
    {
     "ename": "NameError",
     "evalue": "name 'df_missing_ratings' is not defined",
     "output_type": "error",
     "traceback": [
      "\u001b[31m---------------------------------------------------------------------------\u001b[39m",
      "\u001b[31mNameError\u001b[39m                                 Traceback (most recent call last)",
      "\u001b[36mCell\u001b[39m\u001b[36m \u001b[39m\u001b[32mIn[19]\u001b[39m\u001b[32m, line 1\u001b[39m\n\u001b[32m----> \u001b[39m\u001b[32m1\u001b[39m \u001b[38;5;28mprint\u001b[39m(\u001b[33mf\u001b[39m\u001b[33m\"\u001b[39m\u001b[33mВсего записей с нулевым или пропущенным рейтингом: \u001b[39m\u001b[38;5;132;01m{\u001b[39;00m\u001b[38;5;28mlen\u001b[39m(\u001b[43mdf_missing_ratings\u001b[49m)\u001b[38;5;132;01m}\u001b[39;00m\u001b[33m\"\u001b[39m)\n\u001b[32m      2\u001b[39m \u001b[38;5;28mprint\u001b[39m(df_missing_ratings[[\u001b[33m'\u001b[39m\u001b[33mid\u001b[39m\u001b[33m'\u001b[39m, \u001b[33m'\u001b[39m\u001b[33mname\u001b[39m\u001b[33m'\u001b[39m, \u001b[33m'\u001b[39m\u001b[33mvote_average\u001b[39m\u001b[33m'\u001b[39m, \u001b[33m'\u001b[39m\u001b[33mvote_count\u001b[39m\u001b[33m'\u001b[39m, \u001b[33m'\u001b[39m\u001b[33mfirst_air_date\u001b[39m\u001b[33m'\u001b[39m]].head(\u001b[32m10\u001b[39m))\n",
      "\u001b[31mNameError\u001b[39m: name 'df_missing_ratings' is not defined"
     ]
    }
   ],
   "source": [
    "print(f\"Всего записей с нулевым или пропущенным рейтингом: {len(df_missing_ratings)}\")\n",
    "print(df_missing_ratings[['id', 'name', 'vote_average', 'vote_count', 'first_air_date']].head(10))"
   ]
  },
  {
   "cell_type": "code",
   "execution_count": null,
   "id": "bfe4250a-6799-4fb0-b778-d8b053dfc07f",
   "metadata": {},
   "outputs": [],
   "source": [
    "genres_series = df_tv_shows['genres'].dropna()"
   ]
  },
  {
   "cell_type": "code",
   "execution_count": null,
   "id": "599d35f7-b87c-4d12-a10e-cef8eee2e59d",
   "metadata": {},
   "outputs": [],
   "source": [
    "all_genres = set()\n",
    "for genres in genres_series:\n",
    "    for genre in [g.strip() for g in genres.split(\",\")]:\n",
    "        all_genres.add(genre)"
   ]
  },
  {
   "cell_type": "code",
   "execution_count": null,
   "id": "504957df-17bd-415d-bc29-4728b49a5221",
   "metadata": {},
   "outputs": [],
   "source": [
    "print(\"Уникальные жанры:\")\n",
    "for genre in sorted(all_genres):\n",
    "    print(genre)"
   ]
  },
  {
   "cell_type": "code",
   "execution_count": null,
   "id": "d16586d0-21f4-464e-b969-db0f131e6a33",
   "metadata": {},
   "outputs": [],
   "source": [
    "mask = df_tv_shows['name'].str.lower().str.contains('cyberpunk', na=False)\n",
    "df_result = df_tv_shows[mask]\n",
    "print(df_result[['id', 'name', 'networks', 'first_air_date', 'genres', 'overview', 'vote_average']])"
   ]
  },
  {
   "cell_type": "code",
   "execution_count": null,
   "id": "e11bb54c-fb18-41de-8b49-501a6ed5e381",
   "metadata": {},
   "outputs": [],
   "source": [
    "all_genres = set()\n",
    "df_tv_shows_clean['genres'].dropna().apply(lambda x: all_genres.update([g.strip() for g in x.split(',')]))"
   ]
  },
  {
   "cell_type": "code",
   "execution_count": null,
   "id": "95a645e7-febc-4c64-b986-89d8fd23b773",
   "metadata": {},
   "outputs": [],
   "source": [
    "from numpy import percentile\n",
    "\n",
    "df_tv_raw = df_tv_shows.copy()"
   ]
  },
  {
   "cell_type": "code",
   "execution_count": null,
   "id": "17ae000a-20e9-4eb5-bb1c-f91d83b0fcc1",
   "metadata": {},
   "outputs": [],
   "source": [
    "#Извлекаем все уникальные жанры из всего датасета (включая нулевые рейтинги)\n",
    "all_genres = []\n",
    "for g_str in df_tv_raw['genres'].dropna():\n",
    "    all_genres.extend([g.strip() for g in str(g_str).split(',')])"
   ]
  },
  {
   "cell_type": "code",
   "execution_count": null,
   "id": "8732fb3f-ede3-48ac-b94e-00d4ce435dd6",
   "metadata": {},
   "outputs": [],
   "source": [
    "# Считаем медиану рейтинга для каждого жанра (только по сериалам с реальным рейтингом)\n",
    "genre_ratings = {}\n",
    "for g in set(all_genres):\n",
    "    mask = (df_tv_raw['vote_average'] > 0) & \\\n",
    "           (df_tv_raw['genres'].astype(str).str.contains(g, na=False))\n",
    "    vals = df_tv_raw.loc[mask, 'vote_average']\n",
    "    genre_ratings[g] = percentile(vals.dropna(), 25)   # 25-й перцентиль\n"
   ]
  },
  {
   "cell_type": "code",
   "execution_count": null,
   "id": "099d9a71-d62b-4480-baea-58bd251a8ca4",
   "metadata": {},
   "outputs": [],
   "source": [
    "# НИЖНИЙ перцентиль по всем сериалам с рейтингом\n",
    "overall_low = percentile(df_tv_raw.loc[df_tv_raw['vote_average'] > 0, 'vote_average'], 25)"
   ]
  },
  {
   "cell_type": "code",
   "execution_count": null,
   "id": "1fc5da87-561e-4d58-8811-75df98b1c2bc",
   "metadata": {},
   "outputs": [],
   "source": [
    "def calculate_genre_rating(row):\n",
    "    if row['vote_average'] > 0:\n",
    "        return row['vote_average']\n",
    "\n",
    "    genre_names = [g.strip() for g in str(row['genres']).split(',')]\n",
    "    valid = [genre_ratings[g] for g in genre_names if g in genre_ratings]\n",
    "\n",
    "    if valid:\n",
    "        base = np.mean(valid)\n",
    "        penalty = 0.6 * len(valid)          # <-- сильнее\n",
    "        return max(1.0, base - penalty)\n",
    "\n",
    "    # дополнительно опускаем на 0.8, если жанры не нашлись\n",
    "    return max(1.0, overall_low - 0.8)"
   ]
  },
  {
   "cell_type": "code",
   "execution_count": null,
   "id": "f8f5f2e6-179a-45b7-8ab9-28b9acf6d950",
   "metadata": {},
   "outputs": [],
   "source": [
    "df_tv_raw['genre_rating'] = df_tv_raw.apply(calculate_genre_rating, axis=1)\n",
    "df_tv_raw['is_generated'] = df_tv_raw['vote_average'] == 0"
   ]
  },
  {
   "cell_type": "code",
   "execution_count": null,
   "id": "79a606c1-9fb9-4e36-b9f6-99663b4b571c",
   "metadata": {},
   "outputs": [],
   "source": [
    "print(\"Статистика сгенерированных рейтингов:\")\n",
    "print(df_tv_raw[df_tv_raw['is_generated']]['genre_rating'].describe())"
   ]
  },
  {
   "cell_type": "code",
   "execution_count": null,
   "id": "2e470a6a-96c7-4b58-9e15-c1a9864a3948",
   "metadata": {},
   "outputs": [],
   "source": [
    "print(df_tv_raw['is_generated'].value_counts())"
   ]
  },
  {
   "cell_type": "code",
   "execution_count": null,
   "id": "00df7b92-d8bc-42a7-ab3a-74638d75fca6",
   "metadata": {},
   "outputs": [],
   "source": [
    "plt.figure(figsize=(12, 6))\n",
    "plt.hist(df_tv_raw[df_tv_raw['is_generated']]['genre_rating'], \n",
    "         bins=30, alpha=0.7, color='purple')\n",
    "plt.title('Распределение сгенерированных рейтингов')\n",
    "plt.xlabel('Рейтинг')\n",
    "plt.ylabel('Количество сериалов')\n",
    "plt.grid(True)\n",
    "plt.show()\n"
   ]
  },
  {
   "cell_type": "code",
   "execution_count": null,
   "id": "18172495-dd8c-4ab9-b0b1-966aa08482bc",
   "metadata": {},
   "outputs": [],
   "source": [
    "real_ratings = df_tv_raw[~df_tv_raw['is_generated']]['vote_average']\n",
    "generated_ratings = df_tv_raw[df_tv_raw['is_generated']]['genre_rating']\n",
    "\n",
    "plt.figure(figsize=(10, 6))\n",
    "plt.boxplot([real_ratings, generated_ratings], \n",
    "            labels=['Real Ratings', 'Generated Ratings'])\n",
    "plt.title('Сравнение реальных и сгенерированных рейтингов')\n",
    "plt.ylabel('Рейтинг')\n",
    "plt.grid(True)\n",
    "plt.show()"
   ]
  },
  {
   "cell_type": "code",
   "execution_count": null,
   "id": "e569c750-553c-4cfe-9a6d-a1ba690e666c",
   "metadata": {},
   "outputs": [],
   "source": [
    "(df_tv_raw[df_tv_raw['is_generated']].sort_values('genre_rating', ascending=False).head(10)[['name', 'genres', 'genre_rating']])"
   ]
  },
  {
   "cell_type": "code",
   "execution_count": null,
   "id": "342d9919-1694-44ae-abf9-69dd22309331",
   "metadata": {},
   "outputs": [],
   "source": []
  }
 ],
 "metadata": {
  "kernelspec": {
   "display_name": "Python 3 (ipykernel)",
   "language": "python",
   "name": "python3"
  },
  "language_info": {
   "codemirror_mode": {
    "name": "ipython",
    "version": 3
   },
   "file_extension": ".py",
   "mimetype": "text/x-python",
   "name": "python",
   "nbconvert_exporter": "python",
   "pygments_lexer": "ipython3",
   "version": "3.13.1"
  }
 },
 "nbformat": 4,
 "nbformat_minor": 5
}
